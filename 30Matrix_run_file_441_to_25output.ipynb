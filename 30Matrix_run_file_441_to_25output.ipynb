{
  "nbformat": 4,
  "nbformat_minor": 0,
  "metadata": {
    "colab": {
      "name": "30Matrix_run_file_441_to_25output.ipynb",
      "provenance": [],
      "collapsed_sections": [],
      "machine_shape": "hm",
      "include_colab_link": true
    },
    "kernelspec": {
      "name": "python3",
      "display_name": "Python 3"
    },
    "accelerator": "GPU"
  },
  "cells": [
    {
      "cell_type": "markdown",
      "metadata": {
        "id": "view-in-github",
        "colab_type": "text"
      },
      "source": [
        "<a href=\"https://colab.research.google.com/github/chyan0411/Thesis/blob/master/30Matrix_run_file_441_to_25output.ipynb\" target=\"_parent\"><img src=\"https://colab.research.google.com/assets/colab-badge.svg\" alt=\"Open In Colab\"/></a>"
      ]
    },
    {
      "cell_type": "code",
      "metadata": {
        "id": "O4NygAiqvJAd",
        "colab_type": "code",
        "colab": {
          "base_uri": "https://localhost:8080/",
          "height": 33
        },
        "outputId": "159bffea-e9a2-4bc8-af69-8c386bbb68ce"
      },
      "source": [
        "# !pip install import-ipynb\n",
        "# import import_ipynb\n",
        "\n",
        "%tensorflow_version 1.x\n",
        "\n",
        "# !pip install numpy==1.16.1"
      ],
      "execution_count": null,
      "outputs": [
        {
          "output_type": "stream",
          "text": [
            "TensorFlow 1.x selected.\n"
          ],
          "name": "stdout"
        }
      ]
    },
    {
      "cell_type": "code",
      "metadata": {
        "id": "TZBS1XpfL2DD",
        "colab_type": "code",
        "colab": {
          "base_uri": "https://localhost:8080/",
          "height": 137
        },
        "outputId": "93d46532-8ac0-4231-a7a4-5ab3f52acb5b"
      },
      "source": [
        "\n",
        "import numpy as np\n",
        "import tensorflow as tf\n",
        "from sklearn.utils import shuffle\n",
        "from sklearn.metrics import r2_score\n",
        "import matplotlib.pyplot as plt \n",
        "from keras.models import Model, Sequential\n",
        "from keras.layers import Conv1D,Flatten,Conv2D, Dropout, MaxPooling2D, Input,Conv3D, MaxPooling3D, Dense, BatchNormalization\n",
        "from keras import Input,layers\n",
        "from keras.layers.merge import concatenate \n",
        "from google.colab import drive\n",
        "from keras.optimizers import Adam,RMSprop\n",
        "from keras.wrappers.scikit_learn import KerasClassifier,KerasRegressor\n",
        "from sklearn.model_selection import StratifiedKFold\n",
        "from sklearn.model_selection import cross_val_score\n",
        "drive.mount('/content/drive')\n",
        "# %cp -av fromfolder tofolder\n",
        "# %cd \"/content/drive/My Drive/Newdata/\"\n",
        "# from model_functions import *"
      ],
      "execution_count": null,
      "outputs": [
        {
          "output_type": "stream",
          "text": [
            "Using TensorFlow backend.\n"
          ],
          "name": "stderr"
        },
        {
          "output_type": "stream",
          "text": [
            "Go to this URL in a browser: https://accounts.google.com/o/oauth2/auth?client_id=947318989803-6bn6qk8qdgf4n4g3pfee6491hc0brc4i.apps.googleusercontent.com&redirect_uri=urn%3aietf%3awg%3aoauth%3a2.0%3aoob&response_type=code&scope=email%20https%3a%2f%2fwww.googleapis.com%2fauth%2fdocs.test%20https%3a%2f%2fwww.googleapis.com%2fauth%2fdrive%20https%3a%2f%2fwww.googleapis.com%2fauth%2fdrive.photos.readonly%20https%3a%2f%2fwww.googleapis.com%2fauth%2fpeopleapi.readonly\n",
            "\n",
            "Enter your authorization code:\n",
            "··········\n",
            "Mounted at /content/drive\n"
          ],
          "name": "stdout"
        }
      ]
    },
    {
      "cell_type": "code",
      "metadata": {
        "id": "M59286Zt_l9n",
        "colab_type": "code",
        "colab": {
          "base_uri": "https://localhost:8080/",
          "height": 150
        },
        "outputId": "f5657910-1576-4c38-b151-85e678ca0ae5"
      },
      "source": [
        "\n",
        "Data1 = np.load('/content/drive/My Drive/Newdata/matrix_output_con.npy') \n",
        "Data2 = np.load('/content/drive/My Drive/Newdata/matrix_output_pre.npy') \n",
        "Data3 = np.load('/content/drive/My Drive/Newdata/matrix_output_post.npy') \n",
        "Data4 = np.load('/content/drive/My Drive/Newdata/matrix_output_fu.npy') \n",
        "\n",
        "# print(Data2.shape)  # 将21*21 的矩阵分成 25 \n",
        "def from_441_to_4(Data):\n",
        "\n",
        "  Y =[]\n",
        "  for i in range(24):\n",
        "    X =[]\n",
        "    X.append(Data[i,:4,:4])\n",
        "    X.append(Data[i,:4,4:8])\n",
        "    X.append(Data[i,:4,8:12])\n",
        "    X.append(Data[i,:4,12:16])\n",
        "    X.append(Data[i,:4,16:])\n",
        "    X.append(Data[i,4:8,:4])\n",
        "    X.append(Data[i,4:8,4:8])\n",
        "    X.append(Data[i,4:8,8:12]) \n",
        "    X.append(Data[i,4:8,12:16])\n",
        "    X.append(Data[i,4:8,16:])\n",
        "    X.append(Data[i,8:12,:4])\n",
        "    X.append(Data[i,8:12,4:8])\n",
        "    X.append(Data[i,8:12,8:12])\n",
        "    X.append(Data[i,8:12,12:16])\n",
        "    X.append(Data[i,8:12,16:])\n",
        "    X.append(Data[i,12:16,:4])\n",
        "    X.append(Data[i,12:16,4:8])\n",
        "    X.append(Data[i,12:16,8:12])\n",
        "    X.append(Data[i,12:16,12:16])\n",
        "    X.append(Data[i,12:16,16:])\n",
        "    X.append(Data[i,16:,:4])\n",
        "    X.append(Data[i,16:,4:8])\n",
        "    X.append(Data[i,16:,8:12])\n",
        "    X.append(Data[i,16:,12:16])\n",
        "    X.append(Data[i,16:,16:])\n",
        "\n",
        "    Y.append(X)\n",
        "  Tmp = np.array(Y)\n",
        "  print(Tmp.shape)\n",
        "  return Tmp\n",
        "\n",
        "To_4_con =  from_441_to_4(Data1)\n",
        "To_4_pre =  from_441_to_4(Data2)\n",
        "To_4_post =  from_441_to_4(Data3)\n",
        "To_4_fu =  from_441_to_4(Data4) \n",
        "\n",
        "print(To_4_fu[0,0])"
      ],
      "execution_count": null,
      "outputs": [
        {
          "output_type": "stream",
          "text": [
            "(24, 25)\n",
            "(24, 25)\n",
            "(24, 25)\n",
            "(24, 25)\n",
            "[[2. 2. 2. 2.]\n",
            " [2. 2. 2. 2.]\n",
            " [2. 2. 2. 2.]\n",
            " [2. 2. 2. 2.]]\n"
          ],
          "name": "stdout"
        }
      ]
    },
    {
      "cell_type": "code",
      "metadata": {
        "id": "0AFRuwex30Gt",
        "colab_type": "code",
        "colab": {
          "base_uri": "https://localhost:8080/",
          "height": 33
        },
        "outputId": "149a498f-ac9b-4a13-897a-c21d9a79e6b9"
      },
      "source": [
        "# 将分成25份的象限融合，每个象限只用一个数值代表。 0：盲，1：部分盲，2：正常 每个象限用最多值代替（例：假如1最多那就是1）\n",
        "def change_to_4_dots(Data): # 分成的四个矩阵 每个矩阵用其中数值最多的数来表示（0,1,2）\n",
        "  Tmp = Data[:]   \n",
        "  for i in range(24):\n",
        "    for j in range(25):\n",
        "\n",
        "      a = np.count_nonzero(Data[i,j] == 0)\n",
        "      b = np.count_nonzero(Data[i,j] == 1)\n",
        "      c = np.count_nonzero(Data[i,j] == 2)\n",
        "      if a == max(a,b,c):\n",
        "        Tmp[i,j] = 0 \n",
        "      elif b == max(a,b,c):\n",
        "        Tmp[i,j] = 1\n",
        "      elif c == max(a,b,c):\n",
        "        Tmp[i,j] = 2 \n",
        "  return Tmp\n",
        "  \n",
        "aaa = change_to_4_dots(To_4_con)\n",
        "bbb = change_to_4_dots(To_4_pre)\n",
        "ccc = change_to_4_dots(To_4_post)\n",
        "ddd = change_to_4_dots(To_4_fu)    # (24, 25)\n",
        "print(ddd[0])\n",
        "np.save('/content/drive/My Drive/Newdata/_441to4/To_25_con',aaa)\n",
        "np.save('/content/drive/My Drive/Newdata/_441to4/To_25_pre',bbb)\n",
        "np.save('/content/drive/My Drive/Newdata/_441to4/To_25_post',ccc)\n",
        "np.save('/content/drive/My Drive/Newdata/_441to4/To_25_fu',ddd)"
      ],
      "execution_count": null,
      "outputs": [
        {
          "output_type": "stream",
          "text": [
            "[2 2 2 0 0 2 2 2 0 0 2 2 2 0 0 2 2 2 0 0 2 2 2 0 0]\n"
          ],
          "name": "stdout"
        }
      ]
    },
    {
      "cell_type": "code",
      "metadata": {
        "id": "swMlI6dmODy1",
        "colab_type": "code",
        "colab": {}
      },
      "source": [
        "def from_4_to_3_label(data):\n",
        "  TMP = []\n",
        "  for i in range(24):\n",
        "    Tmp =[]\n",
        "    for j in range(25):\n",
        "      tmp = []\n",
        "      if data[i,j] == 0:\n",
        "        tmp.append(1) #生成 1,0,0存进list\n",
        "        tmp.append(0)\n",
        "        tmp.append(0)\n",
        "        \n",
        "      elif data[i,j] == 1:\n",
        "        tmp.append(0)\n",
        "        tmp.append(1)\n",
        "        tmp.append(0)\n",
        "      \n",
        "      elif data[i,j] == 2:\n",
        "        tmp.append(0)\n",
        "        tmp.append(0)\n",
        "        tmp.append(1)\n",
        "      # print(tmp)\n",
        "      Tmp.append(tmp) \n",
        "      # print(len(Tmp))      \n",
        "    TMP.append(Tmp)\n",
        "  result = np.array(TMP)\n",
        "  return result\n",
        "\n",
        "A = from_4_to_3_label(aaa)\n",
        "B = from_4_to_3_label(bbb)\n",
        "C = from_4_to_3_label(ccc)\n",
        "D = from_4_to_3_label(ddd)\n",
        "print(A.shape)  # (24, 25, 3)"
      ],
      "execution_count": null,
      "outputs": []
    },
    {
      "cell_type": "code",
      "metadata": {
        "id": "e_tF8tFF0Z4R",
        "colab_type": "code",
        "colab": {}
      },
      "source": [
        "def make_50_times(data):\n",
        "\n",
        "  tmp = []\n",
        "  for i in range(24):\n",
        "    for j in range(50):\n",
        "      tmp.append(data[i])\n",
        "  result = np.array(tmp)\n",
        "  return result\n",
        "\n",
        "AA = make_50_times(A)\n",
        "BB = make_50_times(B)\n",
        "CC = make_50_times(C)\n",
        "DD = make_50_times(D)\n",
        "print(AA.shape)   # (1200, 25, 3)"
      ],
      "execution_count": null,
      "outputs": []
    },
    {
      "cell_type": "code",
      "metadata": {
        "id": "DbllVn0T5Y0u",
        "colab_type": "code",
        "colab": {}
      },
      "source": [
        "#该每50个就集成一次 按照病人分类， 24个病人 每个病人150个数据（# pre post fu 每50个 ）\n",
        "for i in range (24):  \n",
        "  tmp = np.concatenate((BB[i*50:50*(i+1)],CC[i*50:50*(i+1)],DD[i*50:50*(i+1)]),axis=0)\n",
        "  np.save('/content/drive/My Drive/Newdata/ordered_by_patient/25/output_'+str(i+1),tmp)\n",
        "  print(i)\n",
        "  print(tmp.shape)"
      ],
      "execution_count": null,
      "outputs": []
    },
    {
      "cell_type": "code",
      "metadata": {
        "id": "QTeObCCV_jil",
        "colab_type": "code",
        "colab": {}
      },
      "source": [
        "def reshape(Num):\n",
        "\n",
        "  data = np.load('/content/drive/My Drive/Newdata/ordered_by_patient/' + str(Num)+ '.npy') \n",
        "  data = np.reshape(data,(150,30,116,116))\n",
        "  np.save('/content/drive/My Drive/Newdata/ordered_by_patient/115_30_116_116_' + str(Num),data)\n",
        "  return data"
      ],
      "execution_count": null,
      "outputs": []
    },
    {
      "cell_type": "code",
      "metadata": {
        "id": "5iKs-9ywdDNM",
        "colab_type": "code",
        "colab": {
          "base_uri": "https://localhost:8080/",
          "height": 50
        },
        "outputId": "681db502-de27-4e22-d49b-82c433afc410"
      },
      "source": [
        "patient_order = range(1,25)\n",
        "order = shuffle(patient_order, random_state = 10)\n",
        "print(patient_order)\n",
        "print(order)  \n",
        "# [14, 18, 20, 5, 2, 22, 19, 15, 23, 17, 24, 13, 11, 6, 9, 7, 1, 3, 8, 12, 21, 10, 16, 4]    random_state =20 \n",
        "# [6, 2, 8, 3, 12, 13, 22, 14, 15, 4, 23, 7, 19, 11, 21, 24, 9, 20, 17, 18, 1, 16, 5, 10]    random_state =10"
      ],
      "execution_count": null,
      "outputs": [
        {
          "output_type": "stream",
          "text": [
            "range(1, 25)\n",
            "[6, 2, 8, 3, 12, 13, 22, 14, 15, 4, 23, 7, 19, 11, 21, 24, 9, 20, 17, 18, 1, 16, 5, 10]\n"
          ],
          "name": "stdout"
        }
      ]
    },
    {
      "cell_type": "code",
      "metadata": {
        "id": "Ylh54yEmQMwe",
        "colab_type": "code",
        "colab": {
          "base_uri": "https://localhost:8080/",
          "height": 34
        },
        "outputId": "4f618b6b-8b44-419a-d7b2-9a63d51b5b35"
      },
      "source": [
        "tmp = order[0]\n",
        "A = np.load('/content/drive/My Drive/Newdata/ordered_by_patient/115_30_116_116_' + str(tmp)+ '.npy')\n",
        "for i in order[1:18]: \n",
        "  a = np.load('/content/drive/My Drive/Newdata/ordered_by_patient/115_30_116_116_' + str(i)+ '.npy')\n",
        "  A = np.concatenate((A,a), axis = 0)\n",
        "print(A.shape)\n",
        "# 前十八个 病人数据做训练data(2700, 30, 116, 116)"
      ],
      "execution_count": null,
      "outputs": [
        {
          "output_type": "stream",
          "text": [
            "(2700, 30, 116, 116)\n"
          ],
          "name": "stdout"
        }
      ]
    },
    {
      "cell_type": "code",
      "metadata": {
        "id": "vUN8vMU-j7id",
        "colab_type": "code",
        "colab": {
          "base_uri": "https://localhost:8080/",
          "height": 34
        },
        "outputId": "d55cd923-3ec6-4fa6-dc21-b72276a77b2a"
      },
      "source": [
        "\n",
        "tmp = order[0]\n",
        "B = np.load('/content/drive/My Drive/Newdata/ordered_by_patient/output_' + str(tmp)+ '.npy')\n",
        "for i in order[1:18]: \n",
        "  b = np.load('/content/drive/My Drive/Newdata/ordered_by_patient/output_' + str(i)+ '.npy')\n",
        "  B = np.concatenate((B,b), axis = 0)\n",
        "print(B.shape)\n",
        "# 前十八个 病人数据做训练label(2700, 21, 21)"
      ],
      "execution_count": null,
      "outputs": [
        {
          "output_type": "stream",
          "text": [
            "(2700, 25, 3)\n"
          ],
          "name": "stdout"
        }
      ]
    },
    {
      "cell_type": "code",
      "metadata": {
        "id": "7TrTZn_kQ1dw",
        "colab_type": "code",
        "colab": {
          "base_uri": "https://localhost:8080/",
          "height": 34
        },
        "outputId": "e93ac5f1-8a96-4d5c-adb7-f423b1c2dfdf"
      },
      "source": [
        "tmp = order[18]\n",
        "C = np.load('/content/drive/My Drive/Newdata/ordered_by_patient/115_30_116_116_' + str(tmp)+ '.npy')\n",
        "for i in order[19:]: \n",
        "  c = np.load('/content/drive/My Drive/Newdata/ordered_by_patient/115_30_116_116_' + str(i)+ '.npy')\n",
        "  C = np.concatenate((C,c), axis = 0)\n",
        "print(C.shape)\n",
        "# 后六个人 病人数据做测试data(900, 30, 116, 116)"
      ],
      "execution_count": null,
      "outputs": [
        {
          "output_type": "stream",
          "text": [
            "(900, 30, 116, 116)\n"
          ],
          "name": "stdout"
        }
      ]
    },
    {
      "cell_type": "code",
      "metadata": {
        "id": "PQr6pi8tRO1Q",
        "colab_type": "code",
        "colab": {
          "base_uri": "https://localhost:8080/",
          "height": 34
        },
        "outputId": "828030aa-2d67-453e-a745-69679d2ffa9d"
      },
      "source": [
        "tmp = order[18]\n",
        "D = np.load('/content/drive/My Drive/Newdata/ordered_by_patient/output_' + str(tmp)+ '.npy')\n",
        "for i in order[19:]: \n",
        "  d = np.load('/content/drive/My Drive/Newdata/ordered_by_patient/output_' + str(i)+ '.npy')\n",
        "  D = np.concatenate((D,d), axis = 0)\n",
        "print(D.shape)\n",
        "# 后六个人 病人数据做测试label(900, 21, 21)"
      ],
      "execution_count": null,
      "outputs": [
        {
          "output_type": "stream",
          "text": [
            "(900, 25, 3)\n"
          ],
          "name": "stdout"
        }
      ]
    },
    {
      "cell_type": "code",
      "metadata": {
        "id": "iL8aip7cYTHT",
        "colab_type": "code",
        "colab": {}
      },
      "source": [
        "np.save('/content/drive/My Drive/Newdata/ordered_by_patient/train_data_2700_30_116_116', A)\n",
        "np.save('/content/drive/My Drive/Newdata/ordered_by_patient/train_label_2700_25_3', B)\n",
        "np.save('/content/drive/My Drive/Newdata/ordered_by_patient/test_data_900_30_116_116', C)\n",
        "np.save('/content/drive/My Drive/Newdata/ordered_by_patient/test_label_900_25_3', D)"
      ],
      "execution_count": null,
      "outputs": []
    }
  ]
}