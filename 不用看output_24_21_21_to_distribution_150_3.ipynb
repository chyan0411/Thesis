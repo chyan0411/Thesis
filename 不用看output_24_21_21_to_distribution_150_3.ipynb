{
  "nbformat": 4,
  "nbformat_minor": 0,
  "metadata": {
    "colab": {
      "name": "不用看output_24_21_21_to_distribution_150_3.ipynb",
      "provenance": [],
      "collapsed_sections": [],
      "machine_shape": "hm",
      "include_colab_link": true
    },
    "kernelspec": {
      "name": "python3",
      "display_name": "Python 3"
    },
    "accelerator": "TPU"
  },
  "cells": [
    {
      "cell_type": "markdown",
      "metadata": {
        "id": "view-in-github",
        "colab_type": "text"
      },
      "source": [
        "<a href=\"https://colab.research.google.com/github/chyan0411/Thesis/blob/master/%E4%B8%8D%E7%94%A8%E7%9C%8Boutput_24_21_21_to_distribution_150_3.ipynb\" target=\"_parent\"><img src=\"https://colab.research.google.com/assets/colab-badge.svg\" alt=\"Open In Colab\"/></a>"
      ]
    },
    {
      "cell_type": "code",
      "metadata": {
        "id": "O4NygAiqvJAd",
        "colab_type": "code",
        "colab": {
          "base_uri": "https://localhost:8080/",
          "height": 34
        },
        "outputId": "e4e90f76-ac54-4d07-8a72-35d50add4c4c"
      },
      "source": [
        "#这个文件是把21*21 的输出变成 3个label的百分比     (24, 21, 21)  to  (24,3)  最后按照病人 24个变成 (150,3) ： pre，post，fu \n",
        " !pip install import-ipynb\n",
        "# import import_ipynb\n",
        "\n",
        "%tensorflow_version 1.x\n",
        "# !pip install numpy==1.16.1"
      ],
      "execution_count": null,
      "outputs": [
        {
          "output_type": "stream",
          "text": [
            "TensorFlow 1.x selected.\n"
          ],
          "name": "stdout"
        }
      ]
    },
    {
      "cell_type": "code",
      "metadata": {
        "id": "TZBS1XpfL2DD",
        "colab_type": "code",
        "colab": {
          "base_uri": "https://localhost:8080/",
          "height": 120
        },
        "outputId": "37c45809-7334-4536-d198-37e9d679957b"
      },
      "source": [
        "\n",
        "import numpy as np\n",
        "import tensorflow as tf\n",
        "from sklearn.utils import shuffle\n",
        "from sklearn.metrics import r2_score\n",
        "import matplotlib.pyplot as plt \n",
        "from keras.models import Model, Sequential\n",
        "from keras.layers import Conv1D,Flatten,Conv2D, Dropout, MaxPooling2D, Input,Conv3D, MaxPooling3D, Dense, BatchNormalization\n",
        "from keras import Input,layers\n",
        "from keras.layers.merge import concatenate \n",
        "from google.colab import drive\n",
        "from keras.optimizers import Adam,RMSprop\n",
        "from keras.wrappers.scikit_learn import KerasClassifier,KerasRegressor\n",
        "from sklearn.model_selection import StratifiedKFold\n",
        "from sklearn.model_selection import cross_val_score\n",
        "drive.mount('/content/drive')\n",
        "# %cp -av fromfolder tofolder\n",
        "# %cd \"/content/drive/My Drive/Newdata/\"\n",
        "# from model_functions import *"
      ],
      "execution_count": null,
      "outputs": [
        {
          "output_type": "stream",
          "text": [
            "Go to this URL in a browser: https://accounts.google.com/o/oauth2/auth?client_id=947318989803-6bn6qk8qdgf4n4g3pfee6491hc0brc4i.apps.googleusercontent.com&redirect_uri=urn%3aietf%3awg%3aoauth%3a2.0%3aoob&scope=email%20https%3a%2f%2fwww.googleapis.com%2fauth%2fdocs.test%20https%3a%2f%2fwww.googleapis.com%2fauth%2fdrive%20https%3a%2f%2fwww.googleapis.com%2fauth%2fdrive.photos.readonly%20https%3a%2f%2fwww.googleapis.com%2fauth%2fpeopleapi.readonly&response_type=code\n",
            "\n",
            "Enter your authorization code:\n",
            "··········\n",
            "Mounted at /content/drive\n"
          ],
          "name": "stdout"
        }
      ]
    },
    {
      "cell_type": "code",
      "metadata": {
        "id": "lGwjSV3ujRia",
        "colab_type": "code",
        "colab": {}
      },
      "source": [
        "\n",
        "Data1 = np.load('/content/drive/My Drive/Newdata/matrix_output_con.npy') \n",
        "Data2 = np.load('/content/drive/My Drive/Newdata/matrix_output_pre.npy') \n",
        "Data3 = np.load('/content/drive/My Drive/Newdata/matrix_output_post.npy') \n",
        "Data4 = np.load('/content/drive/My Drive/Newdata/matrix_output_fu.npy') \n",
        "\n",
        "print(Data1.shape)\n",
        "print(Data3[1])"
      ],
      "execution_count": null,
      "outputs": []
    },
    {
      "cell_type": "code",
      "metadata": {
        "id": "s34uwrGsjo9K",
        "colab_type": "code",
        "colab": {}
      },
      "source": [
        "\n",
        "def original_441_to_percent(data):\n",
        "  C = []\n",
        "  for i in range(24):\n",
        "    c1 = 0\n",
        "    c2 = 0\n",
        "    c3 = 0\n",
        "    C1 = []\n",
        "    C2 = []\n",
        "    C3 = []\n",
        "    for j in range(21):\n",
        "      for k in range(21):\n",
        "        if data[i,j,k] == 0:\n",
        "          c1+=1\n",
        "        if data[i,j,k] == 1:\n",
        "          c2+=1 \n",
        "        if data[i,j,k] == 2:\n",
        "          c3+=1\n",
        "    C1.append(c1/441)\n",
        "    C2.append(c2/441)\n",
        "    C3.append(c3/441)\n",
        "    C.append([C1,C2,C3])\n",
        "  C = np.array(C)\n",
        "  C= np.reshape(C,(24,3))\n",
        "  print(C.shape)\n",
        "  return C"
      ],
      "execution_count": null,
      "outputs": []
    },
    {
      "cell_type": "code",
      "metadata": {
        "id": "Ks9BDhoXo9tR",
        "colab_type": "code",
        "colab": {
          "base_uri": "https://localhost:8080/",
          "height": 84
        },
        "outputId": "5446db38-48d3-4847-a914-a7f5918883a2"
      },
      "source": [
        "con = original_441_to_percent(Data1)\n",
        "pre = original_441_to_percent(Data2)\n",
        "post = original_441_to_percent(Data3)\n",
        "fu = original_441_to_percent(Data4)"
      ],
      "execution_count": null,
      "outputs": [
        {
          "output_type": "stream",
          "text": [
            "(24, 3)\n",
            "(24, 3)\n",
            "(24, 3)\n",
            "(24, 3)\n"
          ],
          "name": "stdout"
        }
      ]
    },
    {
      "cell_type": "code",
      "metadata": {
        "id": "aIMPLIHcpfwb",
        "colab_type": "code",
        "colab": {}
      },
      "source": [
        "def make_50_times(data):\n",
        "\n",
        "  tmp = []\n",
        "  for i in range(24):\n",
        "    for j in range(50):\n",
        "      tmp.append(data[i])\n",
        "  result = np.array(tmp)\n",
        "  return result\n",
        "\n",
        "aa = make_50_times(con)\n",
        "bb = make_50_times(pre)\n",
        "cc = make_50_times(post)\n",
        "dd = make_50_times(fu)\n",
        "# size变为(1200, 4, 3)\n",
        "# np.save('/content/drive/My Drive/Newdata/_441to4/_1200_4_con', aa)\n",
        "# np.save('/content/drive/My Drive/Newdata/_441to4/_1200_4_pre', bb)\n",
        "# np.save('/content/drive/My Drive/Newdata/_441to4/_1200_4_post', cc)\n",
        "# np.save('/content/drive/My Drive/Newdata/_441to4/_1200_4_fu', dd) "
      ],
      "execution_count": null,
      "outputs": []
    },
    {
      "cell_type": "code",
      "metadata": {
        "id": "79Yl0Q_ZqOzu",
        "colab_type": "code",
        "colab": {}
      },
      "source": [
        "#该每50个就集成一次 按照病人分类， 24个病人 每个病人150个数据（# pre post fu 每50个 ）\n",
        "for i in range (24):  \n",
        "  tmp = np.concatenate((bb[i*50:50*(i+1)],cc[i*50:50*(i+1)],dd[i*50:50*(i+1)]),axis=0)\n",
        "  np.save('/content/drive/My Drive/Newdata/ordered_by_patient/percent_output_'+str(i+1),tmp)\n",
        "  print(i+1)\n",
        "  print(tmp.shape)  #(150,3)"
      ],
      "execution_count": null,
      "outputs": []
    },
    {
      "cell_type": "code",
      "metadata": {
        "id": "knlwzUBBsOc2",
        "colab_type": "code",
        "colab": {
          "base_uri": "https://localhost:8080/",
          "height": 50
        },
        "outputId": "bf46a5a5-b519-4eec-a936-fc33d672dd16"
      },
      "source": [
        "patient_order = range(1,25)\n",
        "order = shuffle(patient_order, random_state = 10)\n",
        "print(patient_order)\n",
        "print(order)  \n",
        "# [14, 18, 20, 5, 2, 22, 19, 15, 23, 17, 24, 13, 11, 6, 9, 7, 1, 3, 8, 12, 21, 10, 16, 4]    random_state =20 \n",
        "# [6, 2, 8, 3, 12, 13, 22, 14, 15, 4, 23, 7, 19, 11, 21, 24, 9, 20, 17, 18, 1, 16, 5, 10]    random_state =10"
      ],
      "execution_count": null,
      "outputs": [
        {
          "output_type": "stream",
          "text": [
            "range(1, 25)\n",
            "[6, 2, 8, 3, 12, 13, 22, 14, 15, 4, 23, 7, 19, 11, 21, 24, 9, 20, 17, 18, 1, 16, 5, 10]\n"
          ],
          "name": "stdout"
        }
      ]
    },
    {
      "cell_type": "code",
      "metadata": {
        "id": "PTK830wfui_R",
        "colab_type": "code",
        "colab": {}
      },
      "source": [
        "# 第一次为 [6, 2, 8, 3, 12, 13, 22, 14, 15, 4, 23, 7, 19, 11, 21, 24, 9, 20, 17, 18, 1, 16, 5, 10]\n",
        "# 第二次为 \n",
        "# order = [6, 2, 8, 3, 12, 13, 22, 14, 15, 4, 23, 7, 17, 18, 1, 16, 5, 10, 19, 11, 21, 24, 9, 20] \n",
        "# 第三次为\n",
        "# order =  [6, 2, 8, 3, 12, 13, 19, 11, 21, 24, 9, 20, 17, 18, 1, 16, 5, 10, 22, 14, 15, 4, 23, 7]\n",
        "# 第四次为 \n",
        "order = [22, 14, 15, 4, 23, 7, 19, 11, 21, 24, 9, 20, 17, 18, 1, 16, 5, 10, 6, 2, 8, 3, 12, 13]"
      ],
      "execution_count": null,
      "outputs": []
    },
    {
      "cell_type": "code",
      "metadata": {
        "id": "M30_NSu9sUyZ",
        "colab_type": "code",
        "colab": {
          "base_uri": "https://localhost:8080/",
          "height": 34
        },
        "outputId": "a62cebeb-c4a2-4643-dcdf-e914758bf907"
      },
      "source": [
        "tmp = order[0]\n",
        "A = np.load('/content/drive/My Drive/Newdata/ordered_by_patient/115_30_116_116_' + str(tmp)+ '.npy')\n",
        "for i in order[1:18]: \n",
        "  a = np.load('/content/drive/My Drive/Newdata/ordered_by_patient/115_30_116_116_' + str(i)+ '.npy')\n",
        "  A = np.concatenate((A,a), axis = 0)\n",
        "print(A.shape)\n",
        "# 前十八个 病人数据做训练data(2700, 30, 116, 116)"
      ],
      "execution_count": null,
      "outputs": [
        {
          "output_type": "stream",
          "text": [
            "(2700, 30, 116, 116)\n"
          ],
          "name": "stdout"
        }
      ]
    },
    {
      "cell_type": "code",
      "metadata": {
        "id": "0OcecNLcsU9u",
        "colab_type": "code",
        "colab": {
          "base_uri": "https://localhost:8080/",
          "height": 34
        },
        "outputId": "fd64ff32-178d-4193-f4a6-6054df9ad504"
      },
      "source": [
        "\n",
        "tmp = order[0]\n",
        "B = np.load('/content/drive/My Drive/Newdata/ordered_by_patient/percent_output_' + str(tmp)+ '.npy')\n",
        "for i in order[1:18]: \n",
        "  b = np.load('/content/drive/My Drive/Newdata/ordered_by_patient/percent_output_' + str(i)+ '.npy')\n",
        "  B = np.concatenate((B,b), axis = 0)\n",
        "print(B.shape)\n",
        "# 前十八个 病人数据做训练label(2700, 3)"
      ],
      "execution_count": null,
      "outputs": [
        {
          "output_type": "stream",
          "text": [
            "(2700, 3)\n"
          ],
          "name": "stdout"
        }
      ]
    },
    {
      "cell_type": "code",
      "metadata": {
        "id": "RNd7wW8UsVMc",
        "colab_type": "code",
        "colab": {
          "base_uri": "https://localhost:8080/",
          "height": 34
        },
        "outputId": "8dd5410c-f339-42e1-d181-f804478655ac"
      },
      "source": [
        "tmp = order[18]\n",
        "C = np.load('/content/drive/My Drive/Newdata/ordered_by_patient/115_30_116_116_' + str(tmp)+ '.npy')\n",
        "for i in order[19:]: \n",
        "  c = np.load('/content/drive/My Drive/Newdata/ordered_by_patient/115_30_116_116_' + str(i)+ '.npy')\n",
        "  C = np.concatenate((C,c), axis = 0)\n",
        "print(C.shape)\n",
        "# 后六个人 病人数据做测试data(900, 30, 116, 116)"
      ],
      "execution_count": null,
      "outputs": [
        {
          "output_type": "stream",
          "text": [
            "(900, 30, 116, 116)\n"
          ],
          "name": "stdout"
        }
      ]
    },
    {
      "cell_type": "code",
      "metadata": {
        "id": "vYEmGsZNsiE5",
        "colab_type": "code",
        "colab": {
          "base_uri": "https://localhost:8080/",
          "height": 34
        },
        "outputId": "608f64b1-7228-45cb-d4ba-9fc8b762fc3e"
      },
      "source": [
        "tmp = order[18]\n",
        "D = np.load('/content/drive/My Drive/Newdata/ordered_by_patient/percent_output_' + str(tmp)+ '.npy')\n",
        "for i in order[19:]: \n",
        "  d = np.load('/content/drive/My Drive/Newdata/ordered_by_patient/percent_output_' + str(i)+ '.npy')\n",
        "  D = np.concatenate((D,d), axis = 0)\n",
        "print(D.shape)\n",
        "# 后六个人 病人数据做测试label(900,3)"
      ],
      "execution_count": null,
      "outputs": [
        {
          "output_type": "stream",
          "text": [
            "(900, 3)\n"
          ],
          "name": "stdout"
        }
      ]
    },
    {
      "cell_type": "code",
      "metadata": {
        "id": "6xFUNoqjtnHQ",
        "colab_type": "code",
        "colab": {}
      },
      "source": [
        "np.save('/content/drive/My Drive/Newdata/ordered_by_patient/按照病人prepost推fu/train_data_4', A)\n",
        "np.save('/content/drive/My Drive/Newdata/ordered_by_patient/按照病人prepost推fu/train_label_4', B)\n",
        "np.save('/content/drive/My Drive/Newdata/ordered_by_patient/按照病人prepost推fu/test_data_4', C)\n",
        "np.save('/content/drive/My Drive/Newdata/ordered_by_patient/按照病人prepost推fu/test_label_4', D)"
      ],
      "execution_count": null,
      "outputs": []
    },
    {
      "cell_type": "code",
      "metadata": {
        "id": "3Eu5qhIJwAwv",
        "colab_type": "code",
        "colab": {}
      },
      "source": [
        ""
      ],
      "execution_count": null,
      "outputs": []
    }
  ]
}