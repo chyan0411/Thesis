{
  "nbformat": 4,
  "nbformat_minor": 0,
  "metadata": {
    "colab": {
      "name": "441_to_4_output.ipynb",
      "provenance": [],
      "collapsed_sections": [],
      "toc_visible": true,
      "machine_shape": "hm",
      "include_colab_link": true
    },
    "kernelspec": {
      "name": "python3",
      "display_name": "Python 3"
    }
  },
  "cells": [
    {
      "cell_type": "markdown",
      "metadata": {
        "id": "view-in-github",
        "colab_type": "text"
      },
      "source": [
        "<a href=\"https://colab.research.google.com/github/chyan0411/Thesis/blob/master/441_to_4_output.ipynb\" target=\"_parent\"><img src=\"https://colab.research.google.com/assets/colab-badge.svg\" alt=\"Open In Colab\"/></a>"
      ]
    },
    {
      "cell_type": "code",
      "metadata": {
        "id": "O4NygAiqvJAd",
        "colab_type": "code",
        "colab": {
          "base_uri": "https://localhost:8080/",
          "height": 33
        },
        "outputId": "fe943906-2a51-46ad-9ce7-b73a4d0d09c7"
      },
      "source": [
        "# !pip install import-ipynb\n",
        "# import import_ipynb\n",
        "\n",
        "%tensorflow_version 1.x\n",
        "\n",
        "# !pip install numpy==1.16.1"
      ],
      "execution_count": null,
      "outputs": [
        {
          "output_type": "stream",
          "text": [
            "TensorFlow 1.x selected.\n"
          ],
          "name": "stdout"
        }
      ]
    },
    {
      "cell_type": "code",
      "metadata": {
        "id": "TZBS1XpfL2DD",
        "colab_type": "code",
        "colab": {
          "base_uri": "https://localhost:8080/",
          "height": 137
        },
        "outputId": "6e6beb59-42dc-42ca-809b-8aab1d2dfe79"
      },
      "source": [
        "\n",
        "import numpy as np\n",
        "import tensorflow as tf\n",
        "from sklearn.utils import shuffle\n",
        "from sklearn.metrics import r2_score\n",
        "import matplotlib.pyplot as plt \n",
        "from keras.models import Model, Sequential\n",
        "from keras.layers import Conv1D,Flatten,Conv2D, Dropout, MaxPooling2D, Input,Conv3D, MaxPooling3D, Dense, BatchNormalization\n",
        "from keras import Input,layers\n",
        "from keras.layers.merge import concatenate \n",
        "from google.colab import drive\n",
        "from keras.optimizers import Adam,RMSprop\n",
        "from keras.wrappers.scikit_learn import KerasClassifier,KerasRegressor\n",
        "from sklearn.model_selection import StratifiedKFold\n",
        "from sklearn.model_selection import cross_val_score\n",
        "drive.mount('/content/drive')\n",
        "# %cp -av fromfolder tofolder\n",
        "# %cd \"/content/drive/My Drive/Newdata/\"\n",
        "# from model_functions import *"
      ],
      "execution_count": null,
      "outputs": [
        {
          "output_type": "stream",
          "text": [
            "Using TensorFlow backend.\n"
          ],
          "name": "stderr"
        },
        {
          "output_type": "stream",
          "text": [
            "Go to this URL in a browser: https://accounts.google.com/o/oauth2/auth?client_id=947318989803-6bn6qk8qdgf4n4g3pfee6491hc0brc4i.apps.googleusercontent.com&redirect_uri=urn%3aietf%3awg%3aoauth%3a2.0%3aoob&response_type=code&scope=email%20https%3a%2f%2fwww.googleapis.com%2fauth%2fdocs.test%20https%3a%2f%2fwww.googleapis.com%2fauth%2fdrive%20https%3a%2f%2fwww.googleapis.com%2fauth%2fdrive.photos.readonly%20https%3a%2f%2fwww.googleapis.com%2fauth%2fpeopleapi.readonly\n",
            "\n",
            "Enter your authorization code:\n",
            "··········\n",
            "Mounted at /content/drive\n"
          ],
          "name": "stdout"
        }
      ]
    },
    {
      "cell_type": "markdown",
      "metadata": {
        "id": "4FyLQA_7vhL_",
        "colab_type": "text"
      },
      "source": [
        "# 将441 变成 2*2 (但是2^2其中也是 10^10,10^11,11^10,11^11四象限)"
      ]
    },
    {
      "cell_type": "code",
      "metadata": {
        "id": "M59286Zt_l9n",
        "colab_type": "code",
        "colab": {
          "base_uri": "https://localhost:8080/",
          "height": 251
        },
        "outputId": "02ab4922-45d8-4126-d039-57d427f3ebb1"
      },
      "source": [
        "\n",
        "Data1 = np.load('/content/drive/My Drive/Newdata/matrix_output_con.npy') \n",
        "Data2 = np.load('/content/drive/My Drive/Newdata/matrix_output_pre.npy') \n",
        "Data3 = np.load('/content/drive/My Drive/Newdata/matrix_output_post.npy') \n",
        "Data4 = np.load('/content/drive/My Drive/Newdata/matrix_output_fu.npy') \n",
        "\n",
        "# print(Data2.shape)  # 将21*21 的矩阵分成 4个部分\n",
        "def from_441_to_4(Data):\n",
        "\n",
        "  Y =[]\n",
        "  for i in range(24):\n",
        "    X =[]\n",
        "    X.append(Data[i,:10,:10])\n",
        "    X.append(Data[i,:10,10:])\n",
        "    X.append(Data[i,10:,:10])\n",
        "    X.append(Data[i,10:,10:])\n",
        "\n",
        "\n",
        "    Y.append(X)\n",
        "  Tmp = np.array(Y)\n",
        "  print(Tmp.shape)\n",
        "  return Tmp\n",
        "\n",
        "To_4_con =  from_441_to_4(Data1)\n",
        "To_4_pre =  from_441_to_4(Data2)\n",
        "To_4_post =  from_441_to_4(Data3)\n",
        "To_4_fu =  from_441_to_4(Data4) \n",
        "\n",
        "print(To_4_fu[0,0])"
      ],
      "execution_count": null,
      "outputs": [
        {
          "output_type": "stream",
          "text": [
            "(24, 4)\n",
            "(24, 4)\n",
            "(24, 4)\n",
            "(24, 4)\n",
            "[[2. 2. 2. 2. 2. 2. 2. 2. 1. 2.]\n",
            " [2. 2. 2. 2. 2. 2. 2. 2. 2. 2.]\n",
            " [2. 2. 2. 2. 2. 2. 2. 2. 2. 2.]\n",
            " [2. 2. 2. 2. 2. 1. 2. 2. 2. 1.]\n",
            " [2. 2. 2. 2. 2. 2. 2. 2. 2. 2.]\n",
            " [2. 2. 2. 2. 2. 2. 2. 2. 2. 2.]\n",
            " [2. 2. 2. 2. 2. 2. 2. 2. 2. 2.]\n",
            " [2. 2. 2. 2. 2. 2. 2. 2. 2. 2.]\n",
            " [2. 2. 2. 2. 2. 2. 2. 2. 2. 2.]\n",
            " [2. 2. 2. 2. 2. 2. 2. 2. 2. 2.]]\n"
          ],
          "name": "stdout"
        }
      ]
    },
    {
      "cell_type": "markdown",
      "metadata": {
        "id": "VG_ofE74wAoD",
        "colab_type": "text"
      },
      "source": [
        "# 将10^10,10^11,11^10,11^11四象限 变成四个值(0黑 1灰 2白三种class)"
      ]
    },
    {
      "cell_type": "code",
      "metadata": {
        "id": "0AFRuwex30Gt",
        "colab_type": "code",
        "colab": {
          "base_uri": "https://localhost:8080/",
          "height": 33
        },
        "outputId": "d0b10db4-5c63-4066-9f2d-a314e26fad22"
      },
      "source": [
        "# 将分成4份的象限融合，每个象限只用一个数值代表。 0：盲，1：部分盲，2：正常 每个象限用最多值代替（例：假如1最多那就是1）\n",
        "def change_to_4_dots(Data): # 分成的四个矩阵 每个矩阵用其中数值最多的数来表示（0,1,2）\n",
        "  Tmp = Data[:]   \n",
        "  for i in range(24):\n",
        "    for j in range(4):\n",
        "\n",
        "      a = np.count_nonzero(Data[i,j] == 0) \n",
        "      b = np.count_nonzero(Data[i,j] == 1)\n",
        "      c = np.count_nonzero(Data[i,j] == 2)\n",
        "      if a == max(a,b,c):\n",
        "        Tmp[i,j] = 0 \n",
        "      elif b == max(a,b,c):\n",
        "        Tmp[i,j] = 1\n",
        "      elif c == max(a,b,c):\n",
        "        Tmp[i,j] = 2 \n",
        "  return Tmp\n",
        "  \n",
        "aaa = change_to_4_dots(To_4_con)\n",
        "bbb = change_to_4_dots(To_4_pre)\n",
        "ccc = change_to_4_dots(To_4_post)\n",
        "ddd = change_to_4_dots(To_4_fu)\n",
        "print(aaa.shape)   #(24, 4)\n",
        "\n",
        "np.save('/content/drive/My Drive/Newdata/_441to4/To_4_con',aaa)\n",
        "np.save('/content/drive/My Drive/Newdata/_441to4/To_4_pre',bbb)\n",
        "np.save('/content/drive/My Drive/Newdata/_441to4/To_4_post',ccc)\n",
        "np.save('/content/drive/My Drive/Newdata/_441to4/To_4_fu',ddd)\n",
        "\n"
      ],
      "execution_count": null,
      "outputs": [
        {
          "output_type": "stream",
          "text": [
            "(24, 4)\n"
          ],
          "name": "stdout"
        }
      ]
    },
    {
      "cell_type": "code",
      "metadata": {
        "id": "ggR7jwZXzpJP",
        "colab_type": "code",
        "colab": {
          "base_uri": "https://localhost:8080/",
          "height": 33
        },
        "outputId": "a0028e78-c4cc-4960-ec68-5ddaee020678"
      },
      "source": [
        "# 此cell将 4个label 变成  [4,2]形式   例子 [0 0 1 2] 变成 [1 0 0],[1 0 0], [0 1 0], [0 0 1]\n",
        "\n",
        "def from_4_to_3_label(data):\n",
        "  TMP = []\n",
        "  for i in range(24):\n",
        "    Tmp =[]\n",
        "    for j in range(4):\n",
        "      tmp = []\n",
        "      if data[i,j] == 0:\n",
        "        tmp.append(1) #生成 1,0,0存进list\n",
        "        tmp.append(0)\n",
        "        tmp.append(0)\n",
        "        \n",
        "      elif data[i,j] == 1:\n",
        "        tmp.append(0)\n",
        "        tmp.append(1)\n",
        "        tmp.append(0)\n",
        "      \n",
        "      elif data[i,j] == 2:\n",
        "        tmp.append(0)\n",
        "        tmp.append(0)\n",
        "        tmp.append(1)\n",
        "      # print(tmp)\n",
        "      Tmp.append(tmp) \n",
        "      # print(len(Tmp))      \n",
        "    TMP.append(Tmp)\n",
        "  result = np.array(TMP)\n",
        "  return result\n",
        "\n",
        "A = from_4_to_3_label(aaa)\n",
        "B = from_4_to_3_label(bbb)\n",
        "C = from_4_to_3_label(ccc)\n",
        "D = from_4_to_3_label(ddd)\n",
        "print(A.shape)  # (24, 4, 3)\n",
        "\n",
        "# np.save('/content/drive/My Drive/Newdata/_441to4/To_16_con',A)\n",
        "# np.save('/content/drive/My Drive/Newdata/_441to4/To_16_pre',B)\n",
        "# np.save('/content/drive/My Drive/Newdata/_441to4/To_16_post',C)\n",
        "# np.save('/content/drive/My Drive/Newdata/_441to4/To_16_fu',D)"
      ],
      "execution_count": null,
      "outputs": [
        {
          "output_type": "stream",
          "text": [
            "(24, 4, 3)\n"
          ],
          "name": "stdout"
        }
      ]
    },
    {
      "cell_type": "code",
      "metadata": {
        "id": "IatbkKBf3BTU",
        "colab_type": "code",
        "colab": {
          "base_uri": "https://localhost:8080/",
          "height": 33
        },
        "outputId": "594b875c-06b9-4df5-d043-80c2273eb26b"
      },
      "source": [
        "def make_50_times(data):\n",
        "\n",
        "  tmp = []\n",
        "  for i in range(24):\n",
        "    for j in range(50):\n",
        "      tmp.append(data[i])\n",
        "  result = np.array(tmp)\n",
        "  return result\n",
        "\n",
        "AA = make_50_times(A)\n",
        "BB = make_50_times(B)\n",
        "CC = make_50_times(C)\n",
        "DD = make_50_times(D)\n",
        "print(AA.shape)  # (1200, 4, 3)"
      ],
      "execution_count": null,
      "outputs": [
        {
          "output_type": "stream",
          "text": [
            "(1200, 4, 3)\n"
          ],
          "name": "stdout"
        }
      ]
    },
    {
      "cell_type": "code",
      "metadata": {
        "id": "jd_qX_813NtA",
        "colab_type": "code",
        "colab": {}
      },
      "source": [
        "#该每50个就集成一次 按照病人分类， 24个病人 每个病人150个数据（# pre post fu 每50个 ）\n",
        "for i in range (24):  \n",
        "  tmp = np.concatenate((BB[i*50:50*(i+1)],CC[i*50:50*(i+1)],DD[i*50:50*(i+1)]),axis=0)\n",
        "  np.save('/content/drive/My Drive/Newdata/ordered_by_patient/4/output_150_4_3_'+str(i+1),tmp)\n",
        "  print(i+1)\n",
        "  print(tmp.shape)"
      ],
      "execution_count": null,
      "outputs": []
    },
    {
      "cell_type": "code",
      "metadata": {
        "id": "5m7Qg4W14S78",
        "colab_type": "code",
        "colab": {}
      },
      "source": [
        "#该每50个就集成一次 按照病人分类， 24个病人 每个病人200个数据（# con pre post fu 每50个 ）\n",
        "for i in range (24):  \n",
        "  tmp = np.concatenate((AA[i*50:50*(i+1)],BB[i*50:50*(i+1)],CC[i*50:50*(i+1)],DD[i*50:50*(i+1)]),axis=0)\n",
        "  np.save('/content/drive/My Drive/Newdata/ordered_by_patient/4/output_200_4_3_'+str(i+1),tmp)\n",
        "  print(i+1)\n",
        "  print(tmp.shape)"
      ],
      "execution_count": null,
      "outputs": []
    },
    {
      "cell_type": "markdown",
      "metadata": {
        "id": "NRU8WK1uz9D1",
        "colab_type": "text"
      },
      "source": [
        "# 10^10,10^11,11^10,11^11四象限 变成四个值(0 1 两种class)"
      ]
    },
    {
      "cell_type": "code",
      "metadata": {
        "id": "AK1Dul0ixC7y",
        "colab_type": "code",
        "colab": {
          "base_uri": "https://localhost:8080/",
          "height": 435
        },
        "outputId": "5ce6f32d-836f-4100-995c-3ce2b55c9248"
      },
      "source": [
        "# 将分成4份的象限融合，每个象限只用一个数值代表。 0盲 + 1部分盲 = 盲(用0表示)，2 = 正常(用1表示) 每个象限用最多值代替（例：假如0最多那就是0）\n",
        "def change_to_4_dots(Data): # 分成的四个矩阵 每个矩阵用其中数值最多的数来表示（0,1）\n",
        "  Tmp = Data[:]   \n",
        "  for i in range(24):\n",
        "    for j in range(4):\n",
        "\n",
        "      a = np.count_nonzero(Data[i,j] == 0) + np.count_nonzero(Data[i,j] == 1)\n",
        "\n",
        "      c = np.count_nonzero(Data[i,j] == 2)\n",
        "      if a == max(a,c):\n",
        "        Tmp[i,j] = 0 \n",
        "      elif c == max(a,c):\n",
        "        Tmp[i,j] = 1\n",
        "  return Tmp\n",
        "  \n",
        "aaa = change_to_4_dots(To_4_con)\n",
        "bbb = change_to_4_dots(To_4_pre)\n",
        "ccc = change_to_4_dots(To_4_post)\n",
        "ddd = change_to_4_dots(To_4_fu)\n",
        "print(aaa.shape)   #(24, 4)\n",
        "print(ddd)\n",
        "\n",
        "# np.save('/content/drive/My Drive/Newdata/_441to4/To_4_con',aaa)\n",
        "# np.save('/content/drive/My Drive/Newdata/_441to4/To_4_pre',bbb)\n",
        "# np.save('/content/drive/My Drive/Newdata/_441to4/To_4_post',ccc)\n",
        "# np.save('/content/drive/My Drive/Newdata/_441to4/To_4_fu',ddd)"
      ],
      "execution_count": null,
      "outputs": [
        {
          "output_type": "stream",
          "text": [
            "(24, 4)\n",
            "[[1 0 1 0]\n",
            " [1 0 1 1]\n",
            " [1 1 1 0]\n",
            " [0 1 0 1]\n",
            " [0 0 1 0]\n",
            " [1 0 1 1]\n",
            " [0 1 0 1]\n",
            " [0 0 1 1]\n",
            " [1 0 1 0]\n",
            " [1 0 1 0]\n",
            " [0 1 0 1]\n",
            " [0 1 0 1]\n",
            " [0 1 0 1]\n",
            " [1 1 0 0]\n",
            " [0 1 0 1]\n",
            " [1 1 0 1]\n",
            " [1 1 1 0]\n",
            " [0 1 0 1]\n",
            " [1 0 1 0]\n",
            " [0 0 1 0]\n",
            " [0 1 1 1]\n",
            " [0 1 0 1]\n",
            " [0 1 0 0]\n",
            " [0 1 0 1]]\n"
          ],
          "name": "stdout"
        }
      ]
    },
    {
      "cell_type": "code",
      "metadata": {
        "id": "IfwTuwnzw48F",
        "colab_type": "code",
        "colab": {
          "base_uri": "https://localhost:8080/",
          "height": 33
        },
        "outputId": "aa193fc1-91b7-4d17-8449-f06fd9cf2116"
      },
      "source": [
        "# 此cell将 4个label 变成  [4,2]形式   例子 [0 0 1 0] 变成 [1 0 ],[1 0 ], [0 1 ], [1 0]\n",
        "\n",
        "def from_4_to_2_label(data):\n",
        "  TMP = []\n",
        "  for i in range(24):\n",
        "    Tmp =[]\n",
        "    for j in range(4):\n",
        "      tmp = []\n",
        "      if data[i,j] == 0:\n",
        "        tmp.append(1) #生成 1,0,0存进list\n",
        "        tmp.append(0)\n",
        "\n",
        "        \n",
        "      elif data[i,j] == 1:\n",
        "        tmp.append(0)\n",
        "        tmp.append(1)\n",
        "\n",
        "      # print(tmp)\n",
        "      Tmp.append(tmp) \n",
        "      # print(len(Tmp))      \n",
        "    TMP.append(Tmp)\n",
        "  result = np.array(TMP)\n",
        "  return result\n",
        "\n",
        "A = from_4_to_2_label(aaa)\n",
        "B = from_4_to_2_label(bbb)\n",
        "C = from_4_to_2_label(ccc)\n",
        "D = from_4_to_2_label(ddd)\n",
        "print(A.shape)  # (24, 4, 2)\n",
        "\n",
        "# np.save('/content/drive/My Drive/Newdata/_441to4/To_16_con',A)\n",
        "# np.save('/content/drive/My Drive/Newdata/_441to4/To_16_pre',B)\n",
        "# np.save('/content/drive/My Drive/Newdata/_441to4/To_16_post',C)\n",
        "# np.save('/content/drive/My Drive/Newdata/_441to4/To_16_fu',D)"
      ],
      "execution_count": null,
      "outputs": [
        {
          "output_type": "stream",
          "text": [
            "(24, 4, 2)\n"
          ],
          "name": "stdout"
        }
      ]
    },
    {
      "cell_type": "code",
      "metadata": {
        "id": "e_tF8tFF0Z4R",
        "colab_type": "code",
        "colab": {
          "base_uri": "https://localhost:8080/",
          "height": 33
        },
        "outputId": "a82cd8e3-20e1-41ee-bbeb-d2ba316ac13a"
      },
      "source": [
        "def make_50_times(data):\n",
        "\n",
        "  tmp = []\n",
        "  for i in range(24):\n",
        "    for j in range(50):\n",
        "      tmp.append(data[i])\n",
        "  result = np.array(tmp)\n",
        "  return result\n",
        "\n",
        "AA = make_50_times(aaa)\n",
        "BB = make_50_times(bbb)\n",
        "CC = make_50_times(ccc)\n",
        "DD = make_50_times(ddd)\n",
        "print(AA.shape)  # (1200, 4, 2)"
      ],
      "execution_count": null,
      "outputs": [
        {
          "output_type": "stream",
          "text": [
            "(1200, 4)\n"
          ],
          "name": "stdout"
        }
      ]
    },
    {
      "cell_type": "code",
      "metadata": {
        "id": "tCND8sHpTDVs",
        "colab_type": "code",
        "colab": {}
      },
      "source": [
        "#该每50个就集成一次 按照病人分类， 24个病人 每个病人150个数据（# pre post fu 每50个 ）\n",
        "for i in range (24):  \n",
        "  tmp = np.concatenate((BB[i*50:50*(i+1)],CC[i*50:50*(i+1)],DD[i*50:50*(i+1)]),axis=0)\n",
        "  np.save('/content/drive/My Drive/Newdata/ordered_by_patient/4/output_150_4_'+str(i+1),tmp)\n",
        "  # print(i+1)\n",
        "  # print(tmp.shape)   # (150, 4)\n"
      ],
      "execution_count": null,
      "outputs": []
    },
    {
      "cell_type": "code",
      "metadata": {
        "id": "nhDZAmv43tOw",
        "colab_type": "code",
        "colab": {}
      },
      "source": [
        "#该每50个就集成一次 按照病人分类， 24个病人 每个病人200个数据（# con pre post fu 每50个 ）\n",
        "for i in range (24):  \n",
        "  tmp = np.concatenate((AA[i*50:50*(i+1)],BB[i*50:50*(i+1)],CC[i*50:50*(i+1)],DD[i*50:50*(i+1)]),axis=0)\n",
        "  np.save('/content/drive/My Drive/Newdata/ordered_by_patient/4/output_200_4_'+str(i+1),tmp)\n",
        "  # print(i+1)\n",
        "  # print(tmp.shape)    # (150, 4)"
      ],
      "execution_count": null,
      "outputs": []
    },
    {
      "cell_type": "code",
      "metadata": {
        "id": "5iKs-9ywdDNM",
        "colab_type": "code",
        "colab": {
          "base_uri": "https://localhost:8080/",
          "height": 50
        },
        "outputId": "48907f08-e522-408a-92ef-5e7a837a1a1d"
      },
      "source": [
        "patient_order = range(1,25)\n",
        "order = shuffle(patient_order, random_state = 10)\n",
        "print(patient_order)\n",
        "print(order)  \n",
        "# [14, 18, 20, 5, 2, 22, 19, 15, 23, 17, 24, 13, 11, 6, 9, 7, 1, 3, 8, 12, 21, 10, 16, 4]    random_state =20 \n",
        "# [6, 2, 8, 3, 12, 13, 22, 14, 15, 4, 23, 7, 19, 11, 21, 24, 9, 20, 17, 18, 1, 16, 5, 10]    random_state =10"
      ],
      "execution_count": null,
      "outputs": [
        {
          "output_type": "stream",
          "text": [
            "range(1, 25)\n",
            "[6, 2, 8, 3, 12, 13, 22, 14, 15, 4, 23, 7, 19, 11, 21, 24, 9, 20, 17, 18, 1, 16, 5, 10]\n"
          ],
          "name": "stdout"
        }
      ]
    }
  ]
}