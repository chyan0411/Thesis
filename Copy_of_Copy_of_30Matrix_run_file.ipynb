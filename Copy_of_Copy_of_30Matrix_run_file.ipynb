{
  "nbformat": 4,
  "nbformat_minor": 0,
  "metadata": {
    "colab": {
      "name": "Copy of Copy of 30Matrix_run_file.ipynb",
      "provenance": [],
      "collapsed_sections": [],
      "machine_shape": "hm",
      "include_colab_link": true
    },
    "kernelspec": {
      "name": "python3",
      "display_name": "Python 3"
    },
    "accelerator": "TPU"
  },
  "cells": [
    {
      "cell_type": "markdown",
      "metadata": {
        "id": "view-in-github",
        "colab_type": "text"
      },
      "source": [
        "<a href=\"https://colab.research.google.com/github/chyan0411/Thesis/blob/master/Copy_of_Copy_of_30Matrix_run_file.ipynb\" target=\"_parent\"><img src=\"https://colab.research.google.com/assets/colab-badge.svg\" alt=\"Open In Colab\"/></a>"
      ]
    },
    {
      "cell_type": "code",
      "metadata": {
        "id": "S-7HEUjDsltQ",
        "colab_type": "code",
        "colab": {}
      },
      "source": [
        "# 30个频率频道 116*116输入   3种不同3dcnn模型的对比  "
      ],
      "execution_count": null,
      "outputs": []
    },
    {
      "cell_type": "code",
      "metadata": {
        "id": "O4NygAiqvJAd",
        "colab_type": "code",
        "colab": {
          "base_uri": "https://localhost:8080/",
          "height": 34
        },
        "outputId": "5fb4d329-f922-4b79-8370-9f60c4373448"
      },
      "source": [
        "# !pip install import-ipynb\n",
        "# import import_ipynb\n",
        "\n",
        "%tensorflow_version 1.x"
      ],
      "execution_count": null,
      "outputs": [
        {
          "output_type": "stream",
          "text": [
            "TensorFlow 1.x selected.\n"
          ],
          "name": "stdout"
        }
      ]
    },
    {
      "cell_type": "code",
      "metadata": {
        "id": "TZBS1XpfL2DD",
        "colab_type": "code",
        "colab": {
          "base_uri": "https://localhost:8080/",
          "height": 138
        },
        "outputId": "262b8d6d-2b49-41cb-cffd-5e30860fbe48"
      },
      "source": [
        "\n",
        "import numpy as np\n",
        "import tensorflow as tf\n",
        "from sklearn.utils import shuffle\n",
        "from sklearn.metrics import r2_score\n",
        "import matplotlib.pyplot as plt \n",
        "from keras.models import Model, Sequential \n",
        "from keras.layers import Conv1D,Flatten,Conv2D, Dropout, MaxPooling2D, Input,Conv3D, MaxPooling3D, Dense, BatchNormalization\n",
        "from keras.layers.merge import concatenate \n",
        "from keras.layers import Flatten \n",
        "from google.colab import drive\n",
        "from keras.layers import Conv2D\n",
        "from keras.optimizers import Adam\n",
        "from keras.wrappers.scikit_learn import KerasClassifier,KerasRegressor\n",
        "from sklearn.model_selection import StratifiedKFold\n",
        "from sklearn.model_selection import cross_val_score\n",
        "drive.mount('/content/drive')\n",
        "# %cp -av fromfolder tofolder\n",
        "# %cd \"/content/drive/My Drive/Newdata/\"\n",
        "# from model_functions import *"
      ],
      "execution_count": null,
      "outputs": [
        {
          "output_type": "stream",
          "text": [
            "Using TensorFlow backend.\n"
          ],
          "name": "stderr"
        },
        {
          "output_type": "stream",
          "text": [
            "Go to this URL in a browser: https://accounts.google.com/o/oauth2/auth?client_id=947318989803-6bn6qk8qdgf4n4g3pfee6491hc0brc4i.apps.googleusercontent.com&redirect_uri=urn%3aietf%3awg%3aoauth%3a2.0%3aoob&response_type=code&scope=email%20https%3a%2f%2fwww.googleapis.com%2fauth%2fdocs.test%20https%3a%2f%2fwww.googleapis.com%2fauth%2fdrive%20https%3a%2f%2fwww.googleapis.com%2fauth%2fdrive.photos.readonly%20https%3a%2f%2fwww.googleapis.com%2fauth%2fpeopleapi.readonly\n",
            "\n",
            "Enter your authorization code:\n",
            "··········\n",
            "Mounted at /content/drive\n"
          ],
          "name": "stdout"
        }
      ]
    },
    {
      "cell_type": "code",
      "metadata": {
        "id": "TmkjxeXzLGMY",
        "colab_type": "code",
        "colab": {}
      },
      "source": [
        "# 此部分为把输出的21*21打平成441 \n",
        "# matrix_out_con = np.load('/content/drive/My Drive/Newdata/matrix_output_con.npy')\n",
        "datapre = np.load('/content/drive/My Drive/Newdata/matrix_output_pre.npy')\n",
        "datapost = np.load('/content/drive/My Drive/Newdata/matrix_output_post.npy')\n",
        "datafu = np.load('/content/drive/My Drive/Newdata/matrix_output_fu.npy') \n",
        "def flatten(matrix):\n",
        "  tmp = []\n",
        "  for i in range(24):\n",
        "    Flatten = []\n",
        "    for j in range(21):\n",
        "      for k in range(21):\n",
        "        Flatten.append(matrix[i,j,k])\n",
        "    tmp.append(Flatten)\n",
        "  result = np.array(tmp)\n",
        "  return result\n",
        "\n",
        "con = flatten(matrix_out_con)\n",
        "pre = flatten(matrix_out_pre)\n",
        "post = flatten(matrix_out_post)\n",
        "fu = flatten(matrix_out_fu)\n",
        "\n",
        "def x50(matrix):\n",
        "  x50 = []\n",
        "  tmp=[]\n",
        "  for i in range(24):\n",
        "    # tmp=[]\n",
        "    for j in range (50):\n",
        "      tmp.append(matrix[i])\n",
        "    # x50.append(tmp)\n",
        "  result = np.array(tmp)\n",
        "  return result\n",
        "\n",
        "Con = x50(con)\n",
        "Pre = x50(pre)\n",
        "Post = x50(post)\n",
        "Fu = x50(fu)\n",
        "\n",
        "np.save('/content/drive/My Drive/Newdata/flatten_output_con',Con)\n",
        "np.save('/content/drive/My Drive/Newdata/flatten_output_pre',Pre)\n",
        "np.save('/content/drive/My Drive/Newdata/flatten_output_post',Post)\n",
        "np.save('/content/drive/My Drive/Newdata/flatten_output_fu',Fu)"
      ],
      "execution_count": null,
      "outputs": []
    },
    {
      "cell_type": "code",
      "metadata": {
        "id": "0AFRuwex30Gt",
        "colab_type": "code",
        "colab": {}
      },
      "source": [
        "\n",
        "Data1 = np.load('/content/drive/My Drive/Newdata/changed/allpre.npy') \n",
        "Data2 = np.load('/content/drive/My Drive/Newdata/changed/allpost.npy') \n",
        "Data3 = np.load('/content/drive/My Drive/Newdata/changed/allfu.npy') \n",
        "# test_data = np.load('/content/drive/My Drive/Newdata/changed/allfu.npy') \n",
        "# Data4 = np.load('/content/drive/My Drive/Newdata/original/allfu.npy') \n",
        "# train_label = np.load('/content/drive/My Drive/Newdata/shuffle_changedout3600.npy')\n",
        "data = np.concatenate((Data1,Data2,Data3), axis = 0)\n",
        "# Label = np.load('/content/drive/My Drive/Newdata/original/4800.npy')\n",
        "Label = np.concatenate((Pre,Post,Fu), axis = 0)\n",
        "# train_data = np.reshape(Data1,(3600,30,116,116,1))\n",
        "# test_data = np.reshape(Data2,(1200,30,116,116,1)) \n",
        "# train_label = Label[1200:3600]\n",
        "# test_label = Label[:1200]\n",
        "data, label = shuffle(data,Label,random_state=20)\n",
        "np.save('/content/drive/My Drive/Newdata/shuffle_flattenin.npy',data)\n",
        "np.save('/content/drive/My Drive/Newdata/shuffle_flattenout.npy',label)\n",
        "# for i in range(2,25):\n",
        "#   data1 = np.load('/content/drive/My Drive/Newdata/Control/' + str(i)+ '.npy') \n",
        "#   data2 = np.load('/content/drive/My Drive/Newdata/Pre/' + str(i)+ '.npy') \n",
        "#   data3 = np.load('/content/drive/My Drive/Newdata/Post/' + str(i)+ '.npy') \n",
        "#   data4 = np.load('/content/drive/My Drive/Newdata/Fu/' + str(i)+ '.npy') \n",
        "\n",
        "#   Data1 = np.concatenate((Data1,data1), axis = 0)\n",
        "#   Data2 = np.concatenate((Data2,data1), axis = 0)\n",
        "#   Data3 = np.concatenate((Data3,data1), axis = 0)\n",
        "#   Data4 = np.concatenate((Data4,data1), axis = 0)\n",
        "\n",
        "# np.save(\"/content/drive/My Drive/Newdata/Control/allcontrol\",Data1)\n",
        "# np.save(\"/content/drive/My Drive/Newdata/Control/allpre\",Data2)\n",
        "# np.save(\"/content/drive/My Drive/Newdata/Control/allpost\",Data3)\n",
        "# np.save(\"/content/drive/My Drive/Newdata/Control/allfu\",Data4)\n",
        "\n",
        "# print(Data1.shape)\n",
        "# print(Label.shape)\n"
      ],
      "execution_count": null,
      "outputs": []
    },
    {
      "cell_type": "code",
      "metadata": {
        "id": "M0nkvPplysmr",
        "colab_type": "code",
        "colab": {
          "base_uri": "https://localhost:8080/",
          "height": 50
        },
        "outputId": "a527f642-4d42-422b-fbd6-1cc86f3106d0"
      },
      "source": [
        "# print(train_data.shape)\n",
        "# print(test_label.shape)\n",
        "# np.save(\"/content/drive/My Drive/Newdata/train_data\",train_data)\n",
        "# np.save(\"/content/drive/My Drive/Newdata/test_data\",test_data)"
      ],
      "execution_count": null,
      "outputs": [
        {
          "output_type": "stream",
          "text": [
            "(2400, 30, 116, 116, 1)\n",
            "(1200, 3)\n"
          ],
          "name": "stdout"
        }
      ]
    },
    {
      "cell_type": "code",
      "metadata": {
        "id": "gTOxNH4HNEVo",
        "colab_type": "code",
        "colab": {}
      },
      "source": [
        "# data0 = np.load('/content/drive/My Drive/Newdata/original/allcontrol.npy') \n",
        "# data1 = np.load('/content/drive/My Drive/Newdata/original/allpre.npy') \n",
        "# data2 = np.load('/content/drive/My Drive/Newdata/original/allpost.npy') \n",
        "# data3 = np.load('/content/drive/My Drive/Newdata/original/allfu.npy') \n",
        "# data = np.concatenate((data0,data1,data2,data3), axis = 0)\n",
        "\n",
        "# data0 = np.load('/content/drive/My Drive/Newdata/original/allcontrol.npy') \n",
        "# data1 = np.load('/content/drive/My Drive/Newdata/changed/allpre.npy') \n",
        "# data2 = np.load('/content/drive/My Drive/Newdata/changed/allpost.npy') \n",
        "# data3 = np.load('/content/drive/My Drive/Newdata/changed/allfu.npy') \n",
        "# data = np.concatenate((data0,data1,data2,data3), axis = 0) \n",
        "# data = np.load('/content/drive/My Drive/Newdata/originalin4800.npy')\n",
        "# label = np.load('/content/drive/My Drive/Newdata/original/4800.npy')\n",
        "# data, label = shuffle(data,label,random_state=20)\n",
        "# data, label = shuffle(data,label[1200:],random_state=20)\n",
        "# np.save(\"/content/drive/My Drive/Newdata/all4800\",Data)\n",
        "\n",
        "# np.save(\"/content/drive/My Drive/Newdata/originalin4800\",data)\n",
        "# np.save(\"/content/drive/My Drive/Newdata/shuffle_changedout4800\",label)\n",
        "\n",
        "\n",
        "# np.save(\"/content/drive/My Drive/Newdata/shuffle_originalin4800\",data)\n",
        "# np.save(\"/content/drive/My Drive/Newdata/shuffle_originalout4800\",label)"
      ],
      "execution_count": null,
      "outputs": []
    },
    {
      "cell_type": "code",
      "metadata": {
        "id": "QKXSwj_ymPvv",
        "colab_type": "code",
        "colab": {}
      },
      "source": [
        "def Model():\n",
        "  model = Sequential()\n",
        "  model.add(Conv3D(32, kernel_size=(2, 3, 3), activation='relu', kernel_initializer='he_uniform', input_shape=(30,116,116, 1)))\n",
        "  model.add(MaxPooling3D(pool_size=(2, 2, 2)))\n",
        "  model.add(BatchNormalization())\n",
        "  # model.add(Dropout(0.3))\n",
        "  model.add(Conv3D(64, kernel_size=(2, 3, 3), activation='relu', kernel_initializer='he_uniform'))\n",
        "  model.add(MaxPooling3D(pool_size=(2, 2, 2)))\n",
        "  model.add(BatchNormalization()) \n",
        "  # model.add(Dropout(0.5))\n",
        "  model.add(Conv3D(128, kernel_size=(2, 3, 3), activation='relu', kernel_initializer='he_uniform'))\n",
        "  model.add(MaxPooling3D(pool_size=(2, 2, 2)))\n",
        "  # model.add(Dropout(0.5))\n",
        "  model.add(BatchNormalization())\n",
        "  model.add(Conv3D(256, kernel_size=(1, 3, 3), activation='relu', kernel_initializer='he_uniform'))\n",
        "  model.add(MaxPooling3D(pool_size=(2, 2, 2)))\n",
        "  model.add(BatchNormalization())\n",
        "  # model.add(Dropout(0.5))\n",
        "  model.add(Flatten())\n",
        "  model.add(Dense(256, activation='relu', kernel_initializer='he_uniform'))\n",
        "  model.add(Dense(3, activation='softmax'))\n",
        "  model.summary()\n",
        "  from keras.optimizers import RMSprop,Adam\n",
        "  model.compile(optimizer = Adam(lr=0.00001),\n",
        "                loss = 'mean_squared_error',\n",
        "                metrics = ['mae'])\n",
        "  return model\n",
        "\n"
      ],
      "execution_count": null,
      "outputs": []
    },
    {
      "cell_type": "code",
      "metadata": {
        "id": "2suX5KDLTCy0",
        "colab_type": "code",
        "colab": {}
      },
      "source": [
        "\n",
        "# data = np.load('/content/drive/My Drive/Newdata/shuffle_originalin3600.npy')\n",
        "# label =  np.load('/content/drive/My Drive/Newdata/shuffle_originalout3600.npy')\n",
        "# k = 5\n",
        "# num_val_samples = len(data)//k\n",
        "# # for i in range(k):\n",
        "# i = 2\n",
        "# print('processing fold #', i)\n",
        "# test_data = data[i * num_val_samples: (i + 1) * num_val_samples]\n",
        "# test_label = label[i * num_val_samples: (i + 1) * num_val_samples]\n",
        "# train_data = np.concatenate([data[:i * num_val_samples],data[(i + 1) * num_val_samples:]], axis=0)\n",
        "# train_label = np.concatenate([label[:i * num_val_samples],label[(i + 1) * num_val_samples:]], axis=0)\n",
        "# np.save('/content/drive/My Drive/Newdata/'+str(i)+'_fold_trainin_original3600', train_data)\n",
        "# # np.save('/content/drive/My Drive/Newdata/'+str(i)+'_fold_trainout_original3600', train_label)\n",
        "# # np.save('/content/drive/My Drive/Newdata/'+str(i)+'_fold_testin_original3600', test_data)\n",
        "# # np.save('/content/drive/My Drive/Newdata/'+str(i)+'_fold_testout_original3600', test_label)\n",
        "\n"
      ],
      "execution_count": null,
      "outputs": []
    },
    {
      "cell_type": "code",
      "metadata": {
        "id": "QzacozlsLCSm",
        "colab_type": "code",
        "colab": {}
      },
      "source": [
        "\n",
        "# data = np.load('/content/drive/My Drive/Newdata/shuffle_originalin4800.npy')\n",
        "# label =  np.load('/content/drive/My Drive/Newdata/shuffle_originalout4800.npy')\n",
        "# k = 5\n",
        "# num_val_samples = len(data)//k\n",
        "# # for i in range(k):\n",
        "# i = 4\n",
        "# print('processing fold #', i)\n",
        "# test_data = data[i * num_val_samples: (i + 1) * num_val_samples]\n",
        "# test_label = label[i * num_val_samples: (i + 1) * num_val_samples]\n",
        "# train_data = np.concatenate([data[:i * num_val_samples],data[(i + 1) * num_val_samples:]], axis=0)\n",
        "# train_label = np.concatenate([label[:i * num_val_samples],label[(i + 1) * num_val_samples:]], axis=0)\n",
        "# np.save('/content/drive/My Drive/Newdata/'+str(i)+'_fold_trainin_original4800', train_data)\n",
        "# np.save('/content/drive/My Drive/Newdata/'+str(i)+'_fold_trainout_original4800', train_label)\n",
        "# np.save('/content/drive/My Drive/Newdata/'+str(i)+'_fold_testin_original4800', test_data)\n",
        "# np.save('/content/drive/My Drive/Newdata/'+str(i)+'_fold_testout_original4800', test_label)\n",
        "\n"
      ],
      "execution_count": null,
      "outputs": []
    },
    {
      "cell_type": "code",
      "metadata": {
        "id": "zCZ_tNEKwcQf",
        "colab_type": "code",
        "colab": {}
      },
      "source": [
        "# i = 1\n",
        "# train_data = np.load('/content/drive/My Drive/Newdata/'+str(i)+'_fold_trainin_original4800.npy')\n",
        "# train_label = np.load('/content/drive/My Drive/Newdata/'+str(i)+'_fold_trainout_original4800.npy')\n",
        "# test_data = np.load('/content/drive/My Drive/Newdata/'+str(i)+'_fold_testin_original4800.npy')\n",
        "# test_label = np.load('/content/drive/My Drive/Newdata/'+str(i)+'_fold_testout_original4800.npy') \n",
        "# train_data = np.reshape(train_data,(3840,30,116,116,1))\n",
        "# test_data = np.reshape(test_data,(960,30,116,116,1))\n",
        "# num_epochs = 50\n",
        "# batchsize = 6\n",
        "# model = Model()\n",
        "# history = model.fit(train_data, train_label, epochs=num_epochs, batch_size=batchsize, verbose=0)\n",
        "\n"
      ],
      "execution_count": null,
      "outputs": []
    },
    {
      "cell_type": "code",
      "metadata": {
        "id": "P-hMJ_1Mw-qT",
        "colab_type": "code",
        "colab": {
          "base_uri": "https://localhost:8080/",
          "height": 759
        },
        "outputId": "b2549245-41dc-413e-ac9e-8b2f2890fbd0"
      },
      "source": [
        "num_epochs = 50\n",
        "batchsize = 6\n",
        "model = Model()\n",
        "history = model.fit(train_data, train_label, epochs=num_epochs, batch_size=batchsize, verbose=0)\n"
      ],
      "execution_count": null,
      "outputs": [
        {
          "output_type": "stream",
          "text": [
            "WARNING:tensorflow:From /tensorflow-1.15.2/python3.6/tensorflow_core/python/ops/resource_variable_ops.py:1630: calling BaseResourceVariable.__init__ (from tensorflow.python.ops.resource_variable_ops) with constraint is deprecated and will be removed in a future version.\n",
            "Instructions for updating:\n",
            "If using Keras pass *_constraint arguments to layers.\n",
            "Model: \"sequential_1\"\n",
            "_________________________________________________________________\n",
            "Layer (type)                 Output Shape              Param #   \n",
            "=================================================================\n",
            "conv3d_1 (Conv3D)            (None, 29, 114, 114, 32)  608       \n",
            "_________________________________________________________________\n",
            "max_pooling3d_1 (MaxPooling3 (None, 14, 57, 57, 32)    0         \n",
            "_________________________________________________________________\n",
            "batch_normalization_1 (Batch (None, 14, 57, 57, 32)    128       \n",
            "_________________________________________________________________\n",
            "conv3d_2 (Conv3D)            (None, 13, 55, 55, 64)    36928     \n",
            "_________________________________________________________________\n",
            "max_pooling3d_2 (MaxPooling3 (None, 6, 27, 27, 64)     0         \n",
            "_________________________________________________________________\n",
            "batch_normalization_2 (Batch (None, 6, 27, 27, 64)     256       \n",
            "_________________________________________________________________\n",
            "conv3d_3 (Conv3D)            (None, 5, 25, 25, 128)    147584    \n",
            "_________________________________________________________________\n",
            "max_pooling3d_3 (MaxPooling3 (None, 2, 12, 12, 128)    0         \n",
            "_________________________________________________________________\n",
            "batch_normalization_3 (Batch (None, 2, 12, 12, 128)    512       \n",
            "_________________________________________________________________\n",
            "conv3d_4 (Conv3D)            (None, 2, 10, 10, 256)    295168    \n",
            "_________________________________________________________________\n",
            "max_pooling3d_4 (MaxPooling3 (None, 1, 5, 5, 256)      0         \n",
            "_________________________________________________________________\n",
            "batch_normalization_4 (Batch (None, 1, 5, 5, 256)      1024      \n",
            "_________________________________________________________________\n",
            "flatten_1 (Flatten)          (None, 6400)              0         \n",
            "_________________________________________________________________\n",
            "dense_1 (Dense)              (None, 256)               1638656   \n",
            "_________________________________________________________________\n",
            "dense_2 (Dense)              (None, 3)                 771       \n",
            "=================================================================\n",
            "Total params: 2,121,635\n",
            "Trainable params: 2,120,675\n",
            "Non-trainable params: 960\n",
            "_________________________________________________________________\n",
            "WARNING:tensorflow:From /usr/local/lib/python3.6/dist-packages/keras/backend/tensorflow_backend.py:422: The name tf.global_variables is deprecated. Please use tf.compat.v1.global_variables instead.\n",
            "\n"
          ],
          "name": "stdout"
        }
      ]
    },
    {
      "cell_type": "code",
      "metadata": {
        "id": "vsBeoUbp6n1y",
        "colab_type": "code",
        "colab": {
          "base_uri": "https://localhost:8080/",
          "height": 286
        },
        "outputId": "dc2f8a99-11a9-44ac-9992-4cf04a8a5b68"
      },
      "source": [
        "mse_history = history.history['loss']\n",
        "mae_history = history.history['mae']\n",
        "\n",
        "epochs = range(1,len(mse_history) +1)\n",
        "plt.plot(epochs, mse_history, 'c', label='mse')\n",
        "plt.plot(epochs, mae_history, 'm', label='mae')\n",
        "\n",
        "# plt.savefig('/content/drive/My Drive/original4800_50epo_mse_mae1.png' ,dpi=1200)"
      ],
      "execution_count": null,
      "outputs": [
        {
          "output_type": "execute_result",
          "data": {
            "text/plain": [
              "[<matplotlib.lines.Line2D at 0x7fe7c00461d0>]"
            ]
          },
          "metadata": {
            "tags": []
          },
          "execution_count": 6
        },
        {
          "output_type": "display_data",
          "data": {
            "image/png": "[encoded data removed]",
            "text/plain": [
              "<Figure size 432x288 with 1 Axes>"
            ]
          },
          "metadata": {
            "tags": [],
            "needs_background": "light"
          }
        }
      ]
    },
    {
      "cell_type": "code",
      "metadata": {
        "id": "OBSqddWW0Og_",
        "colab_type": "code",
        "colab": {
          "base_uri": "https://localhost:8080/",
          "height": 434
        },
        "outputId": "cff4f9d2-cf26-451f-c8f2-484ef80b1971"
      },
      "source": [
        "\n",
        "comparision1 = (model.predict(test_data))*100\n",
        "Test_label = test_label*100\n",
        "x_data = range(1200)\n",
        "y_data_c1 = Test_label[:,0]\n",
        "y_data_c2 = Test_label[:,1]\n",
        "y_data_c3 = Test_label[:,2]\n",
        "y_predict1_c1 = comparision1[:,0]\n",
        "y_predict1_c2 = comparision1[:,1]\n",
        "y_predict1_c3 = comparision1[:,2]\n",
        "\n",
        "fig, (predict_c1, predict_c2, predict_c3) = plt.subplots(3,figsize=(18,6))\n",
        "fig.suptitle('3 visual conditions_changed') \n",
        "\n",
        "predict_c1.plot(x_data, y_data_c1 , 'r', label='truth_c1')\n",
        "predict_c2.plot(x_data, y_data_c2 , 'r', label='truth_c2')\n",
        "predict_c3.plot(x_data, y_data_c3 , 'r', label='truth_c3')\n",
        "predict_c1.plot(x_data, y_predict1_c1 , 'g', label='predict1_c1')\n",
        "predict_c2.plot(x_data, y_predict1_c2 , 'g', label='predict1_c2')\n",
        "predict_c3.plot(x_data, y_predict1_c3 , 'g', label='predict1_c3')\n",
        "predict_c1.legend(bbox_to_anchor=(0.9, 1), loc='upper left', borderaxespad=0.)\n",
        "predict_c2.legend(bbox_to_anchor=(0.9, 1), loc='upper left', borderaxespad=0.)\n",
        "predict_c3.legend(bbox_to_anchor=(0.9, 1), loc='upper left', borderaxespad=0.)\n",
        "\n",
        "# plt.savefig('/content/drive/My Drive/original4800_50epo_comparison1.png' ,dpi=1200)\n",
        "\n",
        "r2_score(Test_label, comparision1, multioutput='raw_values')"
      ],
      "execution_count": null,
      "outputs": [
        {
          "output_type": "execute_result",
          "data": {
            "text/plain": [
              "array([0., 0., 0.])"
            ]
          },
          "metadata": {
            "tags": []
          },
          "execution_count": 7
        },
        {
          "output_type": "display_data",
          "data": {
            "image/png": "[encoded data removed]",
            "text/plain": [
              "<Figure size 1296x432 with 3 Axes>"
            ]
          },
          "metadata": {
            "tags": [],
            "needs_background": "light"
          }
        }
      ]
    },
    {
      "cell_type": "code",
      "metadata": {
        "id": "a1jNwdfdjgC0",
        "colab_type": "code",
        "colab": {}
      },
      "source": [
        "# data = np.load('/content/drive/My Drive/Newdata/shuffle_changedin4800.npy')\n",
        "label = np.load('/content/drive/My Drive/Newdata/shuffle_changedout4800.npy')\n",
        "data = np.reshape(data,(4800,30,116,116,1))\n",
        "split_rate= 0.7\n",
        "split = int(split_rate*4800)\n",
        "train_data = data[:split]\n",
        "train_label = label[:split]\n",
        "test_data = data[split:]\n",
        "test_label = label[split:] \n",
        "\n",
        "\n",
        "def k_fold(k,train_data,train_targets):\n",
        "  num_val_samples = len(train_data)//k\n",
        "  val_mses = []\n",
        "  val_maes = []\n",
        "  mse_History = []\n",
        "  mae_History = []\n",
        "  num_epochs = 50\n",
        "  batchsize = 6\n",
        "  R2 = []\n",
        "  Comparision = []\n",
        "  for i in range(k):\n",
        "    print('processing fold #', i)\n",
        "    val_data = train_data[i * num_val_samples: (i + 1) * num_val_samples]\n",
        "    val_targets = train_targets[i * num_val_samples: (i + 1) * num_val_samples]\n",
        "    partial_train_data = np.concatenate([train_data[:i * num_val_samples],train_data[(i + 1) * num_val_samples:]], axis=0)\n",
        "    partial_train_targets = np.concatenate([train_targets[:i * num_val_samples],train_targets[(i + 1) * num_val_samples:]], axis=0)\n",
        "    model = Model()\n",
        "    history = model.fit(partial_train_data, partial_train_targets, epochs=num_epochs, batch_size=batchsize, verbose=0)\n",
        "    comparision1 = (model.predict(test_data))*100\n",
        "    Test_label = test_label*100\n",
        "    Comparision.append(comparision1)\n",
        "    # r2_score(Test_label, comparision1, multioutput='raw_values')\n",
        "    R2.append(r2_score(Test_label, comparision1, multioutput='raw_values'))\n",
        "    # val_mse, val_mae = model.evaluate(val_data, val_targets, verbose=0)\n",
        "    # mse_history = history.history['loss']\n",
        "    # mae_history = history.history['mean_absolute_error']\n",
        "    # val_mses.append(val_mse)\n",
        "    # val_maes.append(val_mae)\n",
        "    # mse_History.append(mse_history)\n",
        "    # mae_History.append(mae_history)\n",
        "  # return val_mses, val_maes, mse_History, mae_History\n",
        "  return  R2,Comparision\n",
        "\n",
        "R2_score, Predict_results = k_fold(5,train_data,train_label)\n",
        "\n",
        "\n",
        "# average_mae_history = [(np.mean([x[i] for x in mae_history]))*100 for i in range(50)] \n",
        "# average_mse_history = [(np.mean([x[i] for x in mse_history]))*100 for i in range(50)] \n",
        "# #model 3Dcnn \n",
        "# epochs = range(1,len(average_mse_history)+1)\n",
        "# plt.plot(epochs, average_mae_history,'c',  label='mae' )\n",
        "# plt.plot(epochs, average_mse_history,'m',  label='mse' )\n",
        "# plt.xlabel('Epochs')\n",
        "# plt.ylabel('Validation')\n",
        "# plt.show()\n"
      ],
      "execution_count": null,
      "outputs": []
    },
    {
      "cell_type": "code",
      "metadata": {
        "id": "InwlBzyiKeCq",
        "colab_type": "code",
        "colab": {}
      },
      "source": [
        "mse_history = history.history['loss']\n",
        "mae_history = history.history['mean_absolute_error'] \n",
        "comparision1 = (model.predict(test_data[:100]))*100\n",
        "x_data = range(1080)\n",
        "Test_label = test_label[:100]*100\n",
        "y_data_c1 = Test_label[:,0]\n",
        "y_data_c2 = Test_label[:,1]\n",
        "y_data_c3 = Test_label[:,2]\n",
        "y_predict1_c1 = comparision1[:,0]\n",
        "y_predict1_c2 = comparision1[:,1]\n",
        "y_predict1_c3 = comparision1[:,2]\n",
        "\n",
        "fig, (predict_c1, predict_c2, predict_c3) = plt.subplots(3)\n",
        "fig.suptitle('3 visual conditions') \n",
        "plt.subplots(figsize=(50, 10))\n",
        "# fig, ax = plt.subplots(figsize=(20, 10))\n",
        "\n",
        "predict_c1.plot(x_data, y_data_c1 , 'r', label='truth_c1')\n",
        "predict_c2.plot(x_data, y_data_c2 , 'r', label='truth_c2')\n",
        "predict_c3.plot(x_data, y_data_c3 , 'r', label='truth_c3')\n",
        "predict_c1.plot(x_data, y_predict1_c1 , 'b', label='predict1_c1')\n",
        "predict_c2.plot(x_data, y_predict1_c2 , 'b', label='predict1_c2')\n",
        "predict_c3.plot(x_data, y_predict1_c3 , 'b', label='predict1_c3')\n",
        "from sklearn.metrics import r2_score\n",
        "r2_score(Test_label, comparision1, multioutput='raw_values')"
      ],
      "execution_count": null,
      "outputs": []
    },
    {
      "cell_type": "code",
      "metadata": {
        "id": "MXceKoOMaIMv",
        "colab_type": "code",
        "colab": {}
      },
      "source": [
        "# !cat ~/.keras/keras.json\n",
        "\n",
        "# from keras import backend\n",
        "# backend.set_image_data_format('channels_first')\n",
        "# print(backend.image_data_format())\n",
        "\n",
        "# !cat ~/.keras/keras.json"
      ],
      "execution_count": null,
      "outputs": []
    },
    {
      "cell_type": "code",
      "metadata": {
        "id": "ZYOiIdMub_Xa",
        "colab_type": "code",
        "colab": {}
      },
      "source": [
        "# # print(open(\"~/.keras/keras.json\").read())\n",
        "# content = {\"epsilon\": 1e-07, \n",
        "#     \"floatx\": \"float32\", \n",
        "#     \"image_data_format\": \"channels_first\", \n",
        "#     \"backend\": \"tensorflow\"}\n",
        "# with open(\" ~/.keras/keras.json\",'w') as f:\n",
        "#   f.write(str(content))\n",
        "# # print(open(\"~/.keras/keras.json\").read())\n"
      ],
      "execution_count": null,
      "outputs": []
    },
    {
      "cell_type": "code",
      "metadata": {
        "id": "1pyDCEiQh9rK",
        "colab_type": "code",
        "colab": {}
      },
      "source": [
        "\n",
        "# tmp = data2[3,0,:,:]\n",
        "# # np.set_printoptions(threshold=np.inf)  #打印全部内容 没有缩写\n",
        "# print(tmp.shape)\n",
        "# # print(tmp[:,:])\n",
        "# tmp=tmp.astype(np.float) # conver to float  and plot \n",
        "# # %matplotlib qt \n",
        "# %matplotlib inline\n",
        "# plt.imshow(tmp,cmap='GnBu')\n",
        "# plt.savefig('/content/drive/My Drive/input_example.png' ,dpi=2400)\n"
      ],
      "execution_count": null,
      "outputs": []
    },
    {
      "cell_type": "code",
      "metadata": {
        "id": "KGpGISKqqn8J",
        "colab_type": "code",
        "colab": {}
      },
      "source": [
        "# aaa = np.load('/content/drive/My Drive/output/M2.npy')\n",
        "# ppp = aaa[0]\n",
        "# print(ppp.shape)\n",
        "# ppp=ppp.astype(np.float) # conver to float  and plot \n",
        "# # %matplotlib qt \n",
        "# %matplotlib inline\n",
        "# plt.imshow(ppp,cmap='gray')\n",
        "# plt.savefig('/content/drive/My Drive/output_example.png' ,dpi=2400)"
      ],
      "execution_count": null,
      "outputs": []
    },
    {
      "cell_type": "code",
      "metadata": {
        "id": "y_GEzrFQzZJk",
        "colab_type": "code",
        "colab": {}
      },
      "source": [
        "def SPLIT(data,split):\n",
        "\n",
        "  data, label = shuffle(data, Label, random_state=20)\n",
        "\n",
        "  train_data = data[:split]\n",
        "  train_label = label[:split]\n",
        "  test_data = data[split:]\n",
        "  test_label = label[split:]\n",
        "\n",
        "  return train_data, train_label, test_data, test_label\n",
        "\n",
        "\n",
        "train_data, train_label, test_data, test_label = SPLIT(data,72)\n",
        "# train_data1, train_label1, test_data1, test_label1 = SPLIT(data1,72)\n",
        "# train_data2, train_label2, test_data2, test_label2 = SPLIT(data2,72)"
      ],
      "execution_count": null,
      "outputs": []
    },
    {
      "cell_type": "code",
      "metadata": {
        "id": "bsKXiWEf__lN",
        "colab_type": "code",
        "colab": {}
      },
      "source": [
        "def k_fold(k,train_data,train_targets):\n",
        "  num_val_samples = len(train_data)//k\n",
        "  val_mses = []\n",
        "  val_maes = []\n",
        "  mse_History = []\n",
        "  mae_History = []\n",
        "  num_epochs = 100\n",
        "  batchsize = 6\n",
        "  for i in range(k):\n",
        "    print('processing fold #', i)\n",
        "    val_data = train_data[i * num_val_samples: (i + 1) * num_val_samples]\n",
        "    val_targets = train_targets[i * num_val_samples: (i + 1) * num_val_samples]\n",
        "    partial_train_data = np.concatenate([train_data[:i * num_val_samples],train_data[(i + 1) * num_val_samples:]], axis=0)\n",
        "    partial_train_targets = np.concatenate([train_targets[:i * num_val_samples],train_targets[(i + 1) * num_val_samples:]], axis=0)\n",
        "    model = threeD_CNN()\n",
        "    history = model.fit(partial_train_data, partial_train_targets, epochs=num_epochs, batch_size=batchsize, verbose=0)\n",
        "    val_mse, val_mae = model.evaluate(val_data, val_targets, verbose=0)\n",
        "    mse_history = history.history['loss']\n",
        "    mae_history = history.history['mean_absolute_error']\n",
        "    val_mses.append(val_mse)\n",
        "    val_maes.append(val_mae)\n",
        "    mse_History.append(mse_history)\n",
        "    mae_History.append(mae_history)\n",
        "  return val_mses, val_maes, mse_History, mae_History\n",
        "\n",
        "val_mses, val_maes, mse_history, mae_history = k_fold(4,train_data,train_label)\n",
        "\n",
        "\n",
        "average_mae_history = [(np.mean([x[i] for x in mae_history]))*100 for i in range(100)] \n",
        "average_mse_history = [(np.mean([x[i] for x in mse_history]))*100 for i in range(100)] \n",
        "#model 3Dcnn \n",
        "epochs = range(1,len(average_mse_history)+1)\n",
        "plt.plot(epochs, average_mae_history,'c',  label='mae' )\n",
        "plt.plot(epochs, average_mse_history,'m',  label='mse' )\n",
        "plt.xlabel('Epochs')\n",
        "plt.ylabel('Validation')\n",
        "plt.show()\n"
      ],
      "execution_count": null,
      "outputs": []
    },
    {
      "cell_type": "code",
      "metadata": {
        "id": "BUwIEUOgnscX",
        "colab_type": "code",
        "colab": {}
      },
      "source": [
        "def k_fold(k,train_data,train_targets):\n",
        "  num_val_samples = len(train_data)//k\n",
        "  val_mses = []\n",
        "  val_maes = []\n",
        "  mse_History = []\n",
        "  mae_History = []\n",
        "  num_epochs = 100\n",
        "  batchsize = 6\n",
        "  for i in range(k):\n",
        "    print('processing fold #', i)\n",
        "    val_data = train_data[i * num_val_samples: (i + 1) * num_val_samples]\n",
        "    val_targets = train_targets[i * num_val_samples: (i + 1) * num_val_samples]\n",
        "    partial_train_data = np.concatenate([train_data[:i * num_val_samples],train_data[(i + 1) * num_val_samples:]], axis=0)\n",
        "    partial_train_targets = np.concatenate([train_targets[:i * num_val_samples],train_targets[(i + 1) * num_val_samples:]], axis=0)\n",
        "    model = threeD_CNN1()\n",
        "    history = model.fit(partial_train_data, partial_train_targets, epochs=num_epochs, batch_size=batchsize, verbose=0)\n",
        "    val_mse, val_mae = model.evaluate(val_data, val_targets, verbose=0)\n",
        "    mse_history = history.history['loss']\n",
        "    mae_history = history.history['mean_absolute_error']\n",
        "    val_mses.append(val_mse)\n",
        "    val_maes.append(val_mae)\n",
        "    mse_History.append(mse_history)\n",
        "    mae_History.append(mae_history)\n",
        "  return val_mses, val_maes, mse_History, mae_History\n",
        "\n",
        "val_mses1, val_maes1, mse_history1, mae_history1 = k_fold(4,train_data,train_label) \n",
        "\n",
        "average_mae_history1 = [(np.mean([x[i] for x in mae_history1]))*100 for i in range(100)] \n",
        "average_mse_history1= [(np.mean([x[i] for x in mse_history1]))*100 for i in range(100)] \n",
        "#model 3Dcnn \n",
        "epochs = range(1,len(average_mse_history1)+1)\n",
        "plt.plot(epochs, average_mae_history1,'c',  label='mae' )\n",
        "plt.plot(epochs, average_mse_history1,'m',  label='mse' )\n",
        "plt.xlabel('Epochs')\n",
        "plt.ylabel('Validation')\n",
        "plt.show()\n",
        "# batchsize = 6\n",
        "# model1 = threeD_CNN()\n",
        "# history1 = model1.fit(train_data, train_label, epochs = 100, batch_size = batchsize, verbose=0)\n",
        "# model2 = threeD_CNN1()\n",
        "# history2 = model2.fit(train_data, train_label, epochs = 100, batch_size = batchsize,verbose=0)\n",
        "# model3 = threeD_CNN2()\n",
        "# history3 = model3.fit(train_data, train_label, epochs = 100,batch_size = batchsize, verbose=0)\n"
      ],
      "execution_count": null,
      "outputs": []
    },
    {
      "cell_type": "code",
      "metadata": {
        "id": "0A6aSD2LpEQG",
        "colab_type": "code",
        "colab": {}
      },
      "source": [
        "def k_fold(k,train_data,train_targets):\n",
        "  num_val_samples = len(train_data)//k\n",
        "  val_mses = []\n",
        "  val_maes = []\n",
        "  mse_History = []\n",
        "  mae_History = []\n",
        "  num_epochs = 100\n",
        "  batchsize = 6\n",
        "  for i in range(k):\n",
        "    print('processing fold #', i)\n",
        "    val_data = train_data[i * num_val_samples: (i + 1) * num_val_samples]\n",
        "    val_targets = train_targets[i * num_val_samples: (i + 1) * num_val_samples]\n",
        "    partial_train_data = np.concatenate([train_data[:i * num_val_samples],train_data[(i + 1) * num_val_samples:]], axis=0)\n",
        "    partial_train_targets = np.concatenate([train_targets[:i * num_val_samples],train_targets[(i + 1) * num_val_samples:]], axis=0)\n",
        "    model = threeD_CNN2()\n",
        "    history = model.fit(partial_train_data, partial_train_targets, epochs=num_epochs, batch_size=batchsize, verbose=0)\n",
        "    val_mse, val_mae = model.evaluate(val_data, val_targets, verbose=0)\n",
        "    mse_history = history.history['loss']\n",
        "    mae_history = history.history['mean_absolute_error']\n",
        "    val_mses.append(val_mse)\n",
        "    val_maes.append(val_mae)\n",
        "    mse_History.append(mse_history)\n",
        "    mae_History.append(mae_history)\n",
        "  return val_mses, val_maes, mse_History, mae_History\n",
        "\n",
        "val_mses2, val_maes2, mse_history2, mae_history2 = k_fold(4,train_data,train_label) \n",
        "\n",
        "average_mae_history2 = [(np.mean([x[i] for x in mae_history2]))*100 for i in range(100)] \n",
        "average_mse_history2 = [(np.mean([x[i] for x in mse_history2]))*100 for i in range(100)] \n",
        "#model 3Dcnn \n",
        "epochs = range(1,len(average_mse_history2)+1)\n",
        "plt.plot(epochs, average_mae_history2,'c',  label='mae' )\n",
        "plt.plot(epochs, average_mse_history2,'m',  label='mse' )\n",
        "plt.xlabel('Epochs')\n",
        "plt.ylabel('Validation')\n",
        "plt.show()\n",
        "# batchsize = 6\n",
        "# model1 = threeD_CNN()\n",
        "# history1 = model1.fit(train_data, train_label, epochs = 100, batch_size = batchsize, verbose=0)\n",
        "# model2 = threeD_CNN1()\n",
        "# history2 = model2.fit(train_data, train_label, epochs = 100, batch_size = batchsize,verbose=0)\n",
        "# model3 = threeD_CNN2()\n",
        "# history3 = model3.fit(train_data, train_label, epochs = 100,batch_size = batchsize, verbose=0)\n"
      ],
      "execution_count": null,
      "outputs": []
    },
    {
      "cell_type": "code",
      "metadata": {
        "id": "5FmpFlXNrLxD",
        "colab_type": "code",
        "colab": {}
      },
      "source": [
        "epochs = range(1,len(average_mse_history)+1)\n",
        "plt.plot(epochs, average_mae_history,'c',  label='mae' )\n",
        "plt.plot(epochs, average_mse_history,'c--',  label='mse' )\n",
        "plt.plot(epochs, average_mae_history1,'m',  label='mae1' )\n",
        "plt.plot(epochs, average_mse_history1,'m--',  label='mse1' )\n",
        "plt.plot(epochs, average_mae_history2,'r',  label='mae2' )\n",
        "plt.plot(epochs, average_mse_history2,'r--',  label='mse2' )\n",
        "plt.xlabel('Epochs')\n",
        "plt.ylabel('Average_performance')\n",
        "plt.legend()\n",
        "# plt.show()\n",
        "plt.savefig('/content/drive/My Drive/original_30_3models_comparison.png' ,dpi=1200)"
      ],
      "execution_count": null,
      "outputs": []
    },
    {
      "cell_type": "code",
      "metadata": {
        "id": "y2k-IciUBMET",
        "colab_type": "code",
        "colab": {}
      },
      "source": [
        "mse1 = history1.history['loss']\n",
        "mae1 = history1.history['mean_absolute_error']\n",
        "mse2 = history2.history['loss']\n",
        "mae2 = history2.history['mean_absolute_error']\n",
        "mse3 = history3.history['loss']\n",
        "mae3 = history3.history['mean_absolute_error']\n",
        "# val_loss = history.history['val_loss']\n",
        "# acc = history.history['acc']\n",
        "# val_acc=history.history['val_acc']\n",
        "epochs = range(1,len(mse1) +1)\n",
        "plt.plot(epochs, mse1, 'c', label='mse1')\n",
        "plt.plot(epochs, mse2, 'm', label='mse2')\n",
        "plt.plot(epochs, mse3, 'r', label='mse3')\n",
        "\n",
        "plt.plot(epochs, mae1, 'c--', label='mae1')\n",
        "plt.plot(epochs, mae2, 'm--', label='mae2')\n",
        "plt.plot(epochs, mae3, 'r--', label='mae3')\n",
        "\n",
        "plt.title('loss')\n",
        "plt.xlabel('Epochs')\n",
        "plt.ylabel('Loss')\n",
        "plt.legend()\n",
        "plt.show() \n",
        "# plt.savefig('/content/drive/My Drive/original_30_3models_comparison.png' ,dpi=2400)"
      ],
      "execution_count": null,
      "outputs": []
    },
    {
      "cell_type": "code",
      "metadata": {
        "id": "rCiqhmnb0SrP",
        "colab_type": "code",
        "colab": {}
      },
      "source": [
        "comparision1 = (model1.predict(test_data))*100\n",
        "comparision2 =(model2.predict(test_data))*100\n",
        "comparision3 = (model3.predict(test_data))*100\n",
        "print(comparision1[0,0])\n",
        "print(comparision2)\n"
      ],
      "execution_count": null,
      "outputs": []
    },
    {
      "cell_type": "code",
      "metadata": {
        "id": "5oorCp3DpyDY",
        "colab_type": "code",
        "colab": {}
      },
      "source": [
        "x_data = range(24)\n",
        "Test_label = test_label*100\n",
        "y_data_c1 = Test_label[:,0]\n",
        "y_data_c2 = Test_label[:,1]\n",
        "y_data_c3 = Test_label[:,2]\n",
        "y_predict1_c1 = comparision1[:,0]\n",
        "y_predict1_c2 = comparision1[:,1]\n",
        "y_predict1_c3 = comparision1[:,2]\n",
        "y_predict2_c1 = comparision2[:,0]\n",
        "y_predict2_c2 = comparision2[:,1]\n",
        "y_predict2_c3 = comparision2[:,2]\n",
        "y_predict3_c1 = comparision3[:,0]\n",
        "y_predict3_c2 = comparision3[:,1]\n",
        "y_predict3_c3 = comparision3[:,2]\n",
        "\n",
        "fig, (predict_c1, predict_c2, predict_c3) = plt.subplots(3)\n",
        "fig.suptitle('3 visual conditions') \n",
        "\n",
        "\n",
        "predict_c1.plot(x_data, y_data_c1 , 'c', label='truth_c1')\n",
        "predict_c2.plot(x_data, y_data_c2 , 'r', label='truth_c2')\n",
        "predict_c3.plot(x_data, y_data_c3 , 'b', label='truth_c3')\n",
        "predict_c1.plot(x_data, y_predict1_c1 , 'c--', label='predict1_c1')\n",
        "predict_c2.plot(x_data, y_predict1_c2 , 'r--', label='predict1_c2')\n",
        "predict_c3.plot(x_data, y_predict1_c3 , 'b--', label='predict1_c3')\n",
        "predict_c1.plot(x_data, y_predict2_c1 , 'c:', label='predict2_c1')\n",
        "predict_c2.plot(x_data, y_predict2_c2 , 'r:', label='predict2_c2')\n",
        "predict_c3.plot(x_data, y_predict2_c3 , 'b:', label='predict2_c3')\n",
        "predict_c1.plot(x_data, y_predict3_c1 , 'c-.', label='predict2_c1')\n",
        "predict_c2.plot(x_data, y_predict3_c2 , 'r-.', label='predict2_c2')\n",
        "predict_c3.plot(x_data, y_predict3_c3 , 'b-.', label='predict2_c3')\n",
        "\n",
        "predict_c1.legend(bbox_to_anchor=(1.05, 1), loc='upper left', borderaxespad=0.)\n",
        "predict_c2.legend(bbox_to_anchor=(1.05, 1), loc='upper left', borderaxespad=0.)\n",
        "predict_c3.legend(bbox_to_anchor=(1.05, 1), loc='upper left', borderaxespad=0.)\n",
        "\n",
        "# plt.title('loss')\n",
        "# plt.xlabel('Epochs')\n",
        "# plt.ylabel('Loss')\n",
        "# plt.show() \n",
        "# fig.savefig('/content/drive/My Drive/ready_data_6C/matrix_input/1.png' ,bbox_inches='tight')"
      ],
      "execution_count": null,
      "outputs": []
    },
    {
      "cell_type": "code",
      "metadata": {
        "id": "eeafspWL5hF-",
        "colab_type": "code",
        "colab": {}
      },
      "source": [
        "print(comparision1.shape)\n",
        "y_data_c1 = test_label[:,0]\n",
        "print(y_data_c1.shape)"
      ],
      "execution_count": null,
      "outputs": []
    },
    {
      "cell_type": "code",
      "metadata": {
        "id": "K4Nj-8wBb-YS",
        "colab_type": "code",
        "colab": {}
      },
      "source": [
        "def calculate_mse(predict):   #对比三种视觉情况 每个model的mse  \n",
        "  y_data_c1 = test_label[:,0]\n",
        "  y_data_c2 = test_label[:,1]\n",
        "  y_data_c3 = test_label[:,2]\n",
        "  y_predict1_c1 = predict[:,0]\n",
        "  y_predict1_c2 = predict[:,1]\n",
        "  y_predict1_c3 = predict[:,2]\n",
        "  tmp1 = 0\n",
        "  tmp2 = 0\n",
        "  tmp3 = 0\n",
        "  for i in range(24):\n",
        "    tmp1 = tmp1 + (y_data_c1[i]- y_predict1_c1[i])**2\n",
        "    tmp2 = tmp2 + (y_data_c2[i]- y_predict1_c2[i])**2\n",
        "    tmp3 = tmp3 + (y_data_c3[i]- y_predict1_c3[i])**2\n",
        "  c1 = tmp1 /24 \n",
        "  c2 = tmp2 /24\n",
        "  c3 = tmp3 /24\n",
        "  # c1 = K.mean(K.square( y_data_c1- y_predict1_c1), axis=-1)\n",
        "  # c2 = K.mean(K.square( y_data_c2- y_predict1_c2), axis=-1)\n",
        "  # c3 = K.mean(K.square( y_data_c3- y_predict1_c3), axis=-1)\n",
        "  return c1 , c2 ,c3 \n"
      ],
      "execution_count": null,
      "outputs": []
    },
    {
      "cell_type": "code",
      "metadata": {
        "id": "ADIMW3_z6wqi",
        "colab_type": "code",
        "colab": {}
      },
      "source": [
        "# from keras import backend as K\n",
        "Model1 = calculate_mse(comparision1)\n",
        "Model2 = calculate_mse(comparision2)"
      ],
      "execution_count": null,
      "outputs": []
    },
    {
      "cell_type": "code",
      "metadata": {
        "id": "YtVJRcL-630S",
        "colab_type": "code",
        "colab": {}
      },
      "source": [
        "print(Model1)\n",
        "print(Model2)"
      ],
      "execution_count": null,
      "outputs": []
    },
    {
      "cell_type": "code",
      "metadata": {
        "id": "KOibpL9D7oal",
        "colab_type": "code",
        "colab": {}
      },
      "source": [
        ""
      ],
      "execution_count": null,
      "outputs": []
    }
  ]
}