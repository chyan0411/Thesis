{
 "cells": [
  {
   "cell_type": "code",
   "execution_count": 48,
   "metadata": {},
   "outputs": [],
   "source": [
    "import scipy.io\n",
    "import numpy as np \n",
    "import matplotlib.pyplot as plt\n"
   ]
  },
  {
   "cell_type": "code",
   "execution_count": 59,
   "metadata": {},
   "outputs": [],
   "source": [
    "def Percent_of_data(Period ,Num):   #Num indicates how much percentage is kept  \n",
    "    mat = scipy.io.loadmat('C:\\\\Users\\\\xiaoc\\\\Documents\\\\thesis\\\\density_'+ Period +'\\\\' + str(Num) + '.mat')  \n",
    "    bedata = scipy.io.loadmat('C:\\\\Users\\\\xiaoc\\\\Documents\\\\thesis\\\\bedata.mat')\n",
    "    bedata_new = np.array(bedata['bedata']) #  (24, 18)\n",
    "    new = np.array(mat[Period])    #(1, 30)\n",
    "\n",
    "#     Pre_1Hz=[]\n",
    "#     for i in range(24):\n",
    "#         Pre_1Hz.append(pre_new[0][0][0][i][0][0][2])\n",
    "#     Pre_1Hz = np.array(Pre_1Hz)   # list to array with a shape of 24,116,116 \n",
    "\n",
    "\n",
    "#     # patient1 of all range of herz\n",
    "#     Patient1 = []\n",
    "#     for i in range(30):\n",
    "#         Patient1.append(pre_new[0][i][0][0][0][0][2])\n",
    "#     Patient1 = np.array(Patient1)   #list to array with a shape of 30,116,116 \n",
    "\n",
    "\n",
    "    Patient = []\n",
    "    for i in range (24):\n",
    "        tmp = []\n",
    "        for j in range (30):\n",
    "            tmp.append(new[0][j][0][i][0][0][2])\n",
    "        Patient.append(tmp)\n",
    "    # all range of herz of all patients' data   24,30,116,116       \n",
    "    Patient = np.array(Patient) \n",
    "    np.save(\"C:\\\\Users\\\\xiaoc\\\\Documents\\\\thesis\\\\input\\\\\" + Period + '\\\\' + str(Num)  , Patient)\n",
    "    return Patient   \n",
    "#   loaded_array = np.load('file_name.npy')  way to laad \n"
   ]
  },
  {
   "cell_type": "code",
   "execution_count": 78,
   "metadata": {},
   "outputs": [],
   "source": [
    "# Patient1 = Percent_of_data('pre' ,1) \n",
    "Patient_pre = []\n",
    "for i in range (10):\n",
    "    Patient_pre.append(Percent_of_data('pre' ,i+1)) \n",
    "Patient_post = []\n",
    "for i in range (10):\n",
    "    Patient_post.append(Percent_of_data('post' ,i+1)) \n",
    "Patient_fu = []\n",
    "for i in range (10):\n",
    "    Patient_fu.append(Percent_of_data('fu' ,i+1)) \n",
    "\n",
    "\n",
    "# for x in bedata:\n",
    "#     print (x,len(x))\n",
    "# for x in mat:\n",
    "#     print (x,len(x))"
   ]
  },
  {
   "cell_type": "code",
   "execution_count": 39,
   "metadata": {},
   "outputs": [
    {
     "data": {
      "text/plain": [
       "<matplotlib.image.AxesImage at 0x274785e84a8>"
      ]
     },
     "execution_count": 39,
     "metadata": {},
     "output_type": "execute_result"
    }
   ],
   "source": [
    "#plot the matrix\n",
    "# list = list.tolist()\n",
    "# print(len(list))\n",
    "# %matplotlib qt\n",
    "# plt.imshow(Pre_1Hz[0], cmap='gray')"
   ]
  },
  {
   "cell_type": "code",
   "execution_count": 80,
   "metadata": {},
   "outputs": [],
   "source": [
    "Patient_pre = np.array(Patient_pre)\n",
    "Patient_post = np.array(Patient_post)\n",
    "Patient_fu = np.array(Patient_fu)"
   ]
  },
  {
   "cell_type": "code",
   "execution_count": 81,
   "metadata": {},
   "outputs": [
    {
     "name": "stdout",
     "output_type": "stream",
     "text": [
      "(10, 24, 30, 116, 116)\n"
     ]
    }
   ],
   "source": [
    "print(Patient_fu.shape)"
   ]
  },
  {
   "cell_type": "code",
   "execution_count": null,
   "metadata": {},
   "outputs": [],
   "source": []
  },
  {
   "cell_type": "code",
   "execution_count": null,
   "metadata": {},
   "outputs": [],
   "source": []
  }
 ],
 "metadata": {
  "kernelspec": {
   "display_name": "Python 3",
   "language": "python",
   "name": "python3"
  },
  "language_info": {
   "codemirror_mode": {
    "name": "ipython",
    "version": 3
   },
   "file_extension": ".py",
   "mimetype": "text/x-python",
   "name": "python",
   "nbconvert_exporter": "python",
   "pygments_lexer": "ipython3",
   "version": "3.6.8"
  }
 },
 "nbformat": 4,
 "nbformat_minor": 2
}
