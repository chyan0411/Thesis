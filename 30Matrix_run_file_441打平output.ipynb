{
  "nbformat": 4,
  "nbformat_minor": 0,
  "metadata": {
    "colab": {
      "name": "30Matrix_run_file_441打平output.ipynb",
      "provenance": [],
      "collapsed_sections": [],
      "machine_shape": "hm",
      "include_colab_link": true
    },
    "kernelspec": {
      "name": "python3",
      "display_name": "Python 3"
    },
    "accelerator": "TPU"
  },
  "cells": [
    {
      "cell_type": "markdown",
      "metadata": {
        "id": "view-in-github",
        "colab_type": "text"
      },
      "source": [
        "<a href=\"https://colab.research.google.com/github/chyan0411/Thesis/blob/master/30Matrix_run_file_441%E6%89%93%E5%B9%B3output.ipynb\" target=\"_parent\"><img src=\"https://colab.research.google.com/assets/colab-badge.svg\" alt=\"Open In Colab\"/></a>"
      ]
    },
    {
      "cell_type": "code",
      "metadata": {
        "id": "S-7HEUjDsltQ",
        "colab_type": "code",
        "colab": {}
      },
      "source": [
        "# 30个频率频道 116*116输入   3种不同3dcnn模型的对比  "
      ],
      "execution_count": null,
      "outputs": []
    },
    {
      "cell_type": "code",
      "metadata": {
        "id": "O4NygAiqvJAd",
        "colab_type": "code",
        "colab": {
          "base_uri": "https://localhost:8080/",
          "height": 34
        },
        "outputId": "7bc67140-8607-49a9-9707-7ec4a354c0c7"
      },
      "source": [
        "# !pip install import-ipynb\n",
        "# import import_ipynb\n",
        "\n",
        "%tensorflow_version 1.x"
      ],
      "execution_count": null,
      "outputs": [
        {
          "output_type": "stream",
          "text": [
            "TensorFlow 1.x selected.\n"
          ],
          "name": "stdout"
        }
      ]
    },
    {
      "cell_type": "code",
      "metadata": {
        "id": "TZBS1XpfL2DD",
        "colab_type": "code",
        "colab": {
          "base_uri": "https://localhost:8080/",
          "height": 138
        },
        "outputId": "10a74046-b9eb-49c3-9de5-53de87a15ffd"
      },
      "source": [
        "\n",
        "import numpy as np\n",
        "import tensorflow as tf\n",
        "from sklearn.utils import shuffle\n",
        "from sklearn.metrics import r2_score\n",
        "import matplotlib.pyplot as plt \n",
        "from keras.models import Model, Sequential \n",
        "from keras.layers import Conv1D,Flatten,Conv2D, Dropout, MaxPooling2D, Input,Conv3D, MaxPooling3D, Dense, BatchNormalization\n",
        "from keras.layers.merge import concatenate \n",
        "from keras.layers import Flatten \n",
        "from google.colab import drive\n",
        "from keras.layers import Conv2D\n",
        "from keras.optimizers import Adam\n",
        "from keras.wrappers.scikit_learn import KerasClassifier,KerasRegressor\n",
        "from sklearn.model_selection import StratifiedKFold\n",
        "from sklearn.model_selection import cross_val_score\n",
        "drive.mount('/content/drive')\n",
        "# %cp -av fromfolder tofolder\n",
        "# %cd \"/content/drive/My Drive/Newdata/\"\n",
        "# from model_functions import *"
      ],
      "execution_count": null,
      "outputs": [
        {
          "output_type": "stream",
          "text": [
            "Using TensorFlow backend.\n"
          ],
          "name": "stderr"
        },
        {
          "output_type": "stream",
          "text": [
            "Go to this URL in a browser: https://accounts.google.com/o/oauth2/auth?client_id=947318989803-6bn6qk8qdgf4n4g3pfee6491hc0brc4i.apps.googleusercontent.com&redirect_uri=urn%3aietf%3awg%3aoauth%3a2.0%3aoob&response_type=code&scope=email%20https%3a%2f%2fwww.googleapis.com%2fauth%2fdocs.test%20https%3a%2f%2fwww.googleapis.com%2fauth%2fdrive%20https%3a%2f%2fwww.googleapis.com%2fauth%2fdrive.photos.readonly%20https%3a%2f%2fwww.googleapis.com%2fauth%2fpeopleapi.readonly\n",
            "\n",
            "Enter your authorization code:\n",
            "··········\n",
            "Mounted at /content/drive\n"
          ],
          "name": "stdout"
        }
      ]
    },
    {
      "cell_type": "code",
      "metadata": {
        "id": "0AFRuwex30Gt",
        "colab_type": "code",
        "colab": {}
      },
      "source": [
        "\n",
        "Data1 = np.load('/content/drive/My Drive/Newdata/shuffle_changedin3600.npy') \n",
        "Data2 = np.load('/content/drive/My Drive/Newdata/original/allcontrol.npy') \n",
        "# test_data = np.load('/content/drive/My Drive/Newdata/changed/allfu.npy') \n",
        "# Data4 = np.load('/content/drive/My Drive/Newdata/original/allfu.npy') \n",
        "train_label = np.load('/content/drive/My Drive/Newdata/shuffle_changedout3600.npy')\n",
        "# data = np.concatenate((Data1,Data2), axis = 0)\n",
        "Label = np.load('/content/drive/My Drive/Newdata/original/4800.npy')\n",
        "train_data = np.reshape(Data1,(3600,30,116,116,1))\n",
        "test_data = np.reshape(Data2,(1200,30,116,116,1)) \n",
        "# train_label = Label[1200:3600]\n",
        "test_label = Label[:1200]\n"
      ],
      "execution_count": null,
      "outputs": []
    },
    {
      "cell_type": "code",
      "metadata": {
        "id": "_cfwtxwgrIrH",
        "colab_type": "code",
        "colab": {}
      },
      "source": [
        "data = np.load('/content/drive/My Drive/Newdata/shuffle_flattenin.npy')\n",
        "label =  np.load('/content/drive/My Drive/Newdata/shuffle_flattenout.npy')\n"
      ],
      "execution_count": null,
      "outputs": []
    },
    {
      "cell_type": "code",
      "metadata": {
        "id": "M0nkvPplysmr",
        "colab_type": "code",
        "colab": {
          "base_uri": "https://localhost:8080/",
          "height": 890
        },
        "outputId": "a2dd47c7-afa6-42df-c3f0-8c9336da383d"
      },
      "source": [
        "print(data.shape)\n",
        "print(label.shape)\n",
        "# np.save(\"/content/drive/My Drive/Newdata/train_data\",train_data)\n",
        "# np.save(\"/content/drive/My Drive/Newdata/test_data\",test_data)\n",
        "result = []\n",
        "for i in range(3600):\n",
        "  TMP =[]\n",
        "  for j in range(441):  \n",
        "    if label[i,j] == 0:\n",
        "      tmp = [1,0,0]\n",
        "    if label[i,j] == 1:\n",
        "      tmp = [0,1,0]\n",
        "    if label[i,j] == 2:\n",
        "      tmp = [0,0,1]\n",
        "    TMP.append(tmp)\n",
        "  result.append(TMP)\n",
        "\n",
        "r = np.array(result)\n",
        "print(r)\n",
        "print(r.shape)"
      ],
      "execution_count": null,
      "outputs": [
        {
          "output_type": "stream",
          "text": [
            "(3600, 30, 116, 116)\n",
            "(3600, 441)\n",
            "[[[0 1 0]\n",
            "  [1 0 0]\n",
            "  [0 1 0]\n",
            "  ...\n",
            "  [1 0 0]\n",
            "  [1 0 0]\n",
            "  [1 0 0]]\n",
            "\n",
            " [[0 0 1]\n",
            "  [0 0 1]\n",
            "  [0 0 1]\n",
            "  ...\n",
            "  [0 0 1]\n",
            "  [0 0 1]\n",
            "  [0 1 0]]\n",
            "\n",
            " [[0 1 0]\n",
            "  [1 0 0]\n",
            "  [1 0 0]\n",
            "  ...\n",
            "  [0 0 1]\n",
            "  [0 0 1]\n",
            "  [0 0 1]]\n",
            "\n",
            " ...\n",
            "\n",
            " [[0 0 1]\n",
            "  [0 0 1]\n",
            "  [0 0 1]\n",
            "  ...\n",
            "  [1 0 0]\n",
            "  [1 0 0]\n",
            "  [1 0 0]]\n",
            "\n",
            " [[0 0 1]\n",
            "  [0 0 1]\n",
            "  [0 0 1]\n",
            "  ...\n",
            "  [1 0 0]\n",
            "  [1 0 0]\n",
            "  [1 0 0]]\n",
            "\n",
            " [[1 0 0]\n",
            "  [1 0 0]\n",
            "  [1 0 0]\n",
            "  ...\n",
            "  [0 0 1]\n",
            "  [0 0 1]\n",
            "  [0 0 1]]]\n",
            "(3600, 441, 3)\n"
          ],
          "name": "stdout"
        }
      ]
    },
    {
      "cell_type": "code",
      "metadata": {
        "id": "QKXSwj_ymPvv",
        "colab_type": "code",
        "colab": {}
      },
      "source": [
        "def Model():\n",
        "  model = Sequential()\n",
        "  model.add(Conv3D(32, kernel_size=(2, 3, 3), activation='relu', kernel_initializer='he_uniform', input_shape=(30,116,116, 1)))\n",
        "  model.add(MaxPooling3D(pool_size=(2, 2, 2)))\n",
        "  model.add(BatchNormalization())\n",
        "  # model.add(Dropout(0.3))\n",
        "  model.add(Conv3D(64, kernel_size=(2, 3, 3), activation='relu', kernel_initializer='he_uniform'))\n",
        "  model.add(MaxPooling3D(pool_size=(2, 2, 2)))\n",
        "  model.add(BatchNormalization()) \n",
        "  # model.add(Dropout(0.5))\n",
        "  model.add(Conv3D(128, kernel_size=(2, 3, 3), activation='relu', kernel_initializer='he_uniform'))\n",
        "  model.add(MaxPooling3D(pool_size=(2, 2, 2)))\n",
        "  # model.add(Dropout(0.5))\n",
        "  model.add(BatchNormalization())\n",
        "  model.add(Conv3D(256, kernel_size=(1, 3, 3), activation='relu', kernel_initializer='he_uniform'))\n",
        "  model.add(MaxPooling3D(pool_size=(2, 2, 2)))\n",
        "  model.add(BatchNormalization())\n",
        "  # model.add(Dropout(0.5))\n",
        "  model.add(Flatten())\n",
        "  model.add(Dense(3200, activation='relu', kernel_initializer='he_uniform'))\n",
        "  model.add(Dense(1600, activation='relu', kernel_initializer='he_uniform'))\n",
        "  model.add(Dense(800, activation='relu', kernel_initializer='he_uniform'))  \n",
        "  model.add(Dense(441,activation='softmax'))\n",
        "  # model.add(Dense(3, activation='softmax'))\n",
        "  model.summary()\n",
        "  from keras.optimizers import RMSprop,Adam\n",
        "  model.compile(optimizer = Adam(lr=0.00001),\n",
        "                loss = 'categorical_crossentropy')\n",
        "  return model\n",
        "\n"
      ],
      "execution_count": null,
      "outputs": []
    },
    {
      "cell_type": "code",
      "metadata": {
        "id": "QzacozlsLCSm",
        "colab_type": "code",
        "colab": {
          "base_uri": "https://localhost:8080/",
          "height": 34
        },
        "outputId": "1cc38e24-8d6e-444d-e6f6-ae41c93e94d1"
      },
      "source": [
        "\n",
        "# data = np.load('/content/drive/My Drive/Newdata/shuffle_flattenin.npy')\n",
        "# label =  np.load('/content/drive/My Drive/Newdata/shuffle_flattenout.npy')\n",
        "label = r[:]\n",
        "k = 5\n",
        "num_val_samples = len(data)//k\n",
        "# for i in range(k):\n",
        "i = 1\n",
        "print('processing fold #', i)\n",
        "test_data = data[i * num_val_samples: (i + 1) * num_val_samples]\n",
        "test_label = label[i * num_val_samples: (i + 1) * num_val_samples]\n",
        "train_data = np.concatenate([data[:i * num_val_samples],data[(i + 1) * num_val_samples:]], axis=0)\n",
        "train_label = np.concatenate([label[:i * num_val_samples],label[(i + 1) * num_val_samples:]], axis=0)\n",
        "# np.save('/content/drive/My Drive/Newdata/'+str(i)+'_fold_trainin_original4800', train_data)\n",
        "# np.save('/content/drive/My Drive/Newdata/'+str(i)+'_fold_trainout_original4800', train_label)\n",
        "# np.save('/content/drive/My Drive/Newdata/'+str(i)+'_fold_testin_original4800', test_data)\n",
        "# np.save('/content/drive/My Drive/Newdata/'+str(i)+'_fold_testout_original4800', test_label)\n",
        "train_data = np.reshape(train_data,(2880,30,116,116,1))\n",
        "test_data = np.reshape(test_data,(720,30,116,116,1)) \n"
      ],
      "execution_count": null,
      "outputs": [
        {
          "output_type": "stream",
          "text": [
            "processing fold # 1\n"
          ],
          "name": "stdout"
        }
      ]
    },
    {
      "cell_type": "code",
      "metadata": {
        "id": "P-hMJ_1Mw-qT",
        "colab_type": "code",
        "colab": {
          "base_uri": "https://localhost:8080/",
          "height": 1000
        },
        "outputId": "fc68d56a-a20f-4092-ed48-d9ea183f8805"
      },
      "source": [
        "num_epochs = 50\n",
        "batchsize = 6\n",
        "model = Model()\n",
        "history = model.fit(train_data, train_label, epochs=num_epochs, batch_size=batchsize, verbose=0)\n"
      ],
      "execution_count": null,
      "outputs": [
        {
          "output_type": "stream",
          "text": [
            "WARNING:tensorflow:From /tensorflow-1.15.2/python3.6/tensorflow_core/python/ops/resource_variable_ops.py:1630: calling BaseResourceVariable.__init__ (from tensorflow.python.ops.resource_variable_ops) with constraint is deprecated and will be removed in a future version.\n",
            "Instructions for updating:\n",
            "If using Keras pass *_constraint arguments to layers.\n",
            "Model: \"sequential_1\"\n",
            "_________________________________________________________________\n",
            "Layer (type)                 Output Shape              Param #   \n",
            "=================================================================\n",
            "conv3d_1 (Conv3D)            (None, 29, 114, 114, 32)  608       \n",
            "_________________________________________________________________\n",
            "max_pooling3d_1 (MaxPooling3 (None, 14, 57, 57, 32)    0         \n",
            "_________________________________________________________________\n",
            "batch_normalization_1 (Batch (None, 14, 57, 57, 32)    128       \n",
            "_________________________________________________________________\n",
            "conv3d_2 (Conv3D)            (None, 13, 55, 55, 64)    36928     \n",
            "_________________________________________________________________\n",
            "max_pooling3d_2 (MaxPooling3 (None, 6, 27, 27, 64)     0         \n",
            "_________________________________________________________________\n",
            "batch_normalization_2 (Batch (None, 6, 27, 27, 64)     256       \n",
            "_________________________________________________________________\n",
            "conv3d_3 (Conv3D)            (None, 5, 25, 25, 128)    147584    \n",
            "_________________________________________________________________\n",
            "max_pooling3d_3 (MaxPooling3 (None, 2, 12, 12, 128)    0         \n",
            "_________________________________________________________________\n",
            "batch_normalization_3 (Batch (None, 2, 12, 12, 128)    512       \n",
            "_________________________________________________________________\n",
            "conv3d_4 (Conv3D)            (None, 2, 10, 10, 256)    295168    \n",
            "_________________________________________________________________\n",
            "max_pooling3d_4 (MaxPooling3 (None, 1, 5, 5, 256)      0         \n",
            "_________________________________________________________________\n",
            "batch_normalization_4 (Batch (None, 1, 5, 5, 256)      1024      \n",
            "_________________________________________________________________\n",
            "flatten_1 (Flatten)          (None, 6400)              0         \n",
            "_________________________________________________________________\n",
            "dense_1 (Dense)              (None, 3200)              20483200  \n",
            "_________________________________________________________________\n",
            "dense_2 (Dense)              (None, 1600)              5121600   \n",
            "_________________________________________________________________\n",
            "dense_3 (Dense)              (None, 800)               1280800   \n",
            "_________________________________________________________________\n",
            "dense_4 (Dense)              (None, 441)               353241    \n",
            "=================================================================\n",
            "Total params: 27,721,049\n",
            "Trainable params: 27,720,089\n",
            "Non-trainable params: 960\n",
            "_________________________________________________________________\n"
          ],
          "name": "stdout"
        },
        {
          "output_type": "error",
          "ename": "ValueError",
          "evalue": "ignored",
          "traceback": [
            "\u001b[0;31m---------------------------------------------------------------------------\u001b[0m",
            "\u001b[0;31mValueError\u001b[0m                                Traceback (most recent call last)",
            "\u001b[0;32m<ipython-input-9-d89cdf4f95ba>\u001b[0m in \u001b[0;36m<module>\u001b[0;34m()\u001b[0m\n\u001b[1;32m      2\u001b[0m \u001b[0mbatchsize\u001b[0m \u001b[0;34m=\u001b[0m \u001b[0;36m6\u001b[0m\u001b[0;34m\u001b[0m\u001b[0;34m\u001b[0m\u001b[0m\n\u001b[1;32m      3\u001b[0m \u001b[0mmodel\u001b[0m \u001b[0;34m=\u001b[0m \u001b[0mModel\u001b[0m\u001b[0;34m(\u001b[0m\u001b[0;34m)\u001b[0m\u001b[0;34m\u001b[0m\u001b[0;34m\u001b[0m\u001b[0m\n\u001b[0;32m----> 4\u001b[0;31m \u001b[0mhistory\u001b[0m \u001b[0;34m=\u001b[0m \u001b[0mmodel\u001b[0m\u001b[0;34m.\u001b[0m\u001b[0mfit\u001b[0m\u001b[0;34m(\u001b[0m\u001b[0mtrain_data\u001b[0m\u001b[0;34m,\u001b[0m \u001b[0mtrain_label\u001b[0m\u001b[0;34m,\u001b[0m \u001b[0mepochs\u001b[0m\u001b[0;34m=\u001b[0m\u001b[0mnum_epochs\u001b[0m\u001b[0;34m,\u001b[0m \u001b[0mbatch_size\u001b[0m\u001b[0;34m=\u001b[0m\u001b[0mbatchsize\u001b[0m\u001b[0;34m,\u001b[0m \u001b[0mverbose\u001b[0m\u001b[0;34m=\u001b[0m\u001b[0;36m0\u001b[0m\u001b[0;34m)\u001b[0m\u001b[0;34m\u001b[0m\u001b[0;34m\u001b[0m\u001b[0m\n\u001b[0m",
            "\u001b[0;32m/usr/local/lib/python3.6/dist-packages/keras/engine/training.py\u001b[0m in \u001b[0;36mfit\u001b[0;34m(self, x, y, batch_size, epochs, verbose, callbacks, validation_split, validation_data, shuffle, class_weight, sample_weight, initial_epoch, steps_per_epoch, validation_steps, validation_freq, max_queue_size, workers, use_multiprocessing, **kwargs)\u001b[0m\n\u001b[1;32m   1152\u001b[0m             \u001b[0msample_weight\u001b[0m\u001b[0;34m=\u001b[0m\u001b[0msample_weight\u001b[0m\u001b[0;34m,\u001b[0m\u001b[0;34m\u001b[0m\u001b[0;34m\u001b[0m\u001b[0m\n\u001b[1;32m   1153\u001b[0m             \u001b[0mclass_weight\u001b[0m\u001b[0;34m=\u001b[0m\u001b[0mclass_weight\u001b[0m\u001b[0;34m,\u001b[0m\u001b[0;34m\u001b[0m\u001b[0;34m\u001b[0m\u001b[0m\n\u001b[0;32m-> 1154\u001b[0;31m             batch_size=batch_size)\n\u001b[0m\u001b[1;32m   1155\u001b[0m \u001b[0;34m\u001b[0m\u001b[0m\n\u001b[1;32m   1156\u001b[0m         \u001b[0;31m# Prepare validation data.\u001b[0m\u001b[0;34m\u001b[0m\u001b[0;34m\u001b[0m\u001b[0;34m\u001b[0m\u001b[0m\n",
            "\u001b[0;32m/usr/local/lib/python3.6/dist-packages/keras/engine/training.py\u001b[0m in \u001b[0;36m_standardize_user_data\u001b[0;34m(self, x, y, sample_weight, class_weight, check_array_lengths, batch_size)\u001b[0m\n\u001b[1;32m    619\u001b[0m                 \u001b[0mfeed_output_shapes\u001b[0m\u001b[0;34m,\u001b[0m\u001b[0;34m\u001b[0m\u001b[0;34m\u001b[0m\u001b[0m\n\u001b[1;32m    620\u001b[0m                 \u001b[0mcheck_batch_axis\u001b[0m\u001b[0;34m=\u001b[0m\u001b[0;32mFalse\u001b[0m\u001b[0;34m,\u001b[0m  \u001b[0;31m# Don't enforce the batch size.\u001b[0m\u001b[0;34m\u001b[0m\u001b[0;34m\u001b[0m\u001b[0m\n\u001b[0;32m--> 621\u001b[0;31m                 exception_prefix='target')\n\u001b[0m\u001b[1;32m    622\u001b[0m \u001b[0;34m\u001b[0m\u001b[0m\n\u001b[1;32m    623\u001b[0m             \u001b[0;31m# Generate sample-wise weight values given the `sample_weight` and\u001b[0m\u001b[0;34m\u001b[0m\u001b[0;34m\u001b[0m\u001b[0;34m\u001b[0m\u001b[0m\n",
            "\u001b[0;32m/usr/local/lib/python3.6/dist-packages/keras/engine/training_utils.py\u001b[0m in \u001b[0;36mstandardize_input_data\u001b[0;34m(data, names, shapes, check_batch_axis, exception_prefix)\u001b[0m\n\u001b[1;32m    133\u001b[0m                         \u001b[0;34m': expected '\u001b[0m \u001b[0;34m+\u001b[0m \u001b[0mnames\u001b[0m\u001b[0;34m[\u001b[0m\u001b[0mi\u001b[0m\u001b[0;34m]\u001b[0m \u001b[0;34m+\u001b[0m \u001b[0;34m' to have '\u001b[0m \u001b[0;34m+\u001b[0m\u001b[0;34m\u001b[0m\u001b[0;34m\u001b[0m\u001b[0m\n\u001b[1;32m    134\u001b[0m                         \u001b[0mstr\u001b[0m\u001b[0;34m(\u001b[0m\u001b[0mlen\u001b[0m\u001b[0;34m(\u001b[0m\u001b[0mshape\u001b[0m\u001b[0;34m)\u001b[0m\u001b[0;34m)\u001b[0m \u001b[0;34m+\u001b[0m \u001b[0;34m' dimensions, but got array '\u001b[0m\u001b[0;34m\u001b[0m\u001b[0;34m\u001b[0m\u001b[0m\n\u001b[0;32m--> 135\u001b[0;31m                         'with shape ' + str(data_shape))\n\u001b[0m\u001b[1;32m    136\u001b[0m                 \u001b[0;32mif\u001b[0m \u001b[0;32mnot\u001b[0m \u001b[0mcheck_batch_axis\u001b[0m\u001b[0;34m:\u001b[0m\u001b[0;34m\u001b[0m\u001b[0;34m\u001b[0m\u001b[0m\n\u001b[1;32m    137\u001b[0m                     \u001b[0mdata_shape\u001b[0m \u001b[0;34m=\u001b[0m \u001b[0mdata_shape\u001b[0m\u001b[0;34m[\u001b[0m\u001b[0;36m1\u001b[0m\u001b[0;34m:\u001b[0m\u001b[0;34m]\u001b[0m\u001b[0;34m\u001b[0m\u001b[0;34m\u001b[0m\u001b[0m\n",
            "\u001b[0;31mValueError\u001b[0m: Error when checking target: expected dense_4 to have 2 dimensions, but got array with shape (2880, 441, 3)"
          ]
        }
      ]
    },
    {
      "cell_type": "code",
      "metadata": {
        "id": "vsBeoUbp6n1y",
        "colab_type": "code",
        "colab": {
          "base_uri": "https://localhost:8080/",
          "height": 293
        },
        "outputId": "e4c047ca-9a8d-44b4-9614-14d203d57b61"
      },
      "source": [
        "mse_history = history.history['loss']\n",
        "# mae_history = history.history['mae']\n",
        "\n",
        "epochs = range(1,len(mse_history) +1)\n",
        "plt.plot(epochs, mse_history, 'c', label='mse')\n",
        "# plt.plot(epochs, mae_history, 'm', label='mae')\n",
        "\n",
        "# plt.savefig('/content/drive/My Drive/original4800_50epo_mse_mae1.png' ,dpi=1200)"
      ],
      "execution_count": null,
      "outputs": [
        {
          "output_type": "execute_result",
          "data": {
            "text/plain": [
              "[<matplotlib.lines.Line2D at 0x7fd43000ca58>]"
            ]
          },
          "metadata": {
            "tags": []
          },
          "execution_count": 6
        },
        {
          "output_type": "display_data",
          "data": {
            "image/png": "[encoded data removed]",
            "text/plain": [
              "<Figure size 432x288 with 1 Axes>"
            ]
          },
          "metadata": {
            "tags": [],
            "needs_background": "light"
          }
        }
      ]
    },
    {
      "cell_type": "code",
      "metadata": {
        "id": "OBSqddWW0Og_",
        "colab_type": "code",
        "colab": {
          "base_uri": "https://localhost:8080/",
          "height": 34
        },
        "outputId": "f0c3d4ac-0ce4-48b6-dd81-2390de5eb841"
      },
      "source": [
        "\n",
        "comparision1 = (model.predict(test_data))*100\n",
        "Test_label = test_label*100\n",
        "\n",
        "comparision1 = (model.predict(test_data))\n",
        "Test_label = test_label\n",
        "x_data = range(720)\n",
        "# y_data_c1 = Test_label[:,0]\n",
        "# y_data_c2 = Test_label[:,1]\n",
        "# y_data_c3 = Test_label[:,2]\n",
        "# y_predict1_c1 = comparision1[:,0]\n",
        "# y_predict1_c2 = comparision1[:,1]\n",
        "# y_predict1_c3 = comparision1[:,2]\n",
        "\n",
        "# fig, (predict_c1, predict_c2, predict_c3) = plt.subplots(3,figsize=(18,6))\n",
        "# fig.suptitle('3 visual conditions_changed') \n",
        "\n",
        "# predict_c1.plot(x_data, y_data_c1 , 'r', label='truth_c1')\n",
        "# predict_c2.plot(x_data, y_data_c2 , 'r', label='truth_c2')\n",
        "# predict_c3.plot(x_data, y_data_c3 , 'r', label='truth_c3')\n",
        "# predict_c1.plot(x_data, y_predict1_c1 , 'g', label='predict1_c1')\n",
        "# predict_c2.plot(x_data, y_predict1_c2 , 'g', label='predict1_c2')\n",
        "# predict_c3.plot(x_data, y_predict1_c3 , 'g', label='predict1_c3')\n",
        "# predict_c1.legend(bbox_to_anchor=(0.9, 1), loc='upper left', borderaxespad=0.)\n",
        "# predict_c2.legend(bbox_to_anchor=(0.9, 1), loc='upper left', borderaxespad=0.)\n",
        "# predict_c3.legend(bbox_to_anchor=(0.9, 1), loc='upper left', borderaxespad=0.)\n",
        "\n",
        "# plt.savefig('/content/drive/My Drive/original4800_50epo_comparison1.png' ,dpi=1200)\n",
        "\n",
        "r2_score(Test_label, comparision1, multioutput='uniform_average')     #[‘raw_values’, ‘uniform_average’, ‘variance_weighted’]"
      ],
      "execution_count": null,
      "outputs": [
        {
          "output_type": "execute_result",
          "data": {
            "text/plain": [
              "-1.729865374850756"
            ]
          },
          "metadata": {
            "tags": []
          },
          "execution_count": 7
        }
      ]
    },
    {
      "cell_type": "code",
      "metadata": {
        "id": "a1jNwdfdjgC0",
        "colab_type": "code",
        "colab": {}
      },
      "source": [
        "# data = np.load('/content/drive/My Drive/Newdata/shuffle_changedin4800.npy')\n",
        "label = np.load('/content/drive/My Drive/Newdata/shuffle_changedout4800.npy')\n",
        "data = np.reshape(data,(4800,30,116,116,1))\n",
        "split_rate= 0.7\n",
        "split = int(split_rate*4800)\n",
        "train_data = data[:split]\n",
        "train_label = label[:split]\n",
        "test_data = data[split:]\n",
        "test_label = label[split:] \n",
        "\n",
        "\n",
        "def k_fold(k,train_data,train_targets):\n",
        "  num_val_samples = len(train_data)//k\n",
        "  val_mses = []\n",
        "  val_maes = []\n",
        "  mse_History = []\n",
        "  mae_History = []\n",
        "  num_epochs = 50\n",
        "  batchsize = 6\n",
        "  R2 = []\n",
        "  Comparision = []\n",
        "  for i in range(k):\n",
        "    print('processing fold #', i)\n",
        "    val_data = train_data[i * num_val_samples: (i + 1) * num_val_samples]\n",
        "    val_targets = train_targets[i * num_val_samples: (i + 1) * num_val_samples]\n",
        "    partial_train_data = np.concatenate([train_data[:i * num_val_samples],train_data[(i + 1) * num_val_samples:]], axis=0)\n",
        "    partial_train_targets = np.concatenate([train_targets[:i * num_val_samples],train_targets[(i + 1) * num_val_samples:]], axis=0)\n",
        "    model = Model()\n",
        "    history = model.fit(partial_train_data, partial_train_targets, epochs=num_epochs, batch_size=batchsize, verbose=0)\n",
        "    comparision1 = (model.predict(test_data))*100\n",
        "    Test_label = test_label*100\n",
        "    Comparision.append(comparision1)\n",
        "    # r2_score(Test_label, comparision1, multioutput='raw_values')\n",
        "    R2.append(r2_score(Test_label, comparision1, multioutput='raw_values'))\n",
        "    # val_mse, val_mae = model.evaluate(val_data, val_targets, verbose=0)\n",
        "    # mse_history = history.history['loss']\n",
        "    # mae_history = history.history['mean_absolute_error']\n",
        "    # val_mses.append(val_mse)\n",
        "    # val_maes.append(val_mae)\n",
        "    # mse_History.append(mse_history)\n",
        "    # mae_History.append(mae_history)\n",
        "  # return val_mses, val_maes, mse_History, mae_History\n",
        "  return  R2,Comparision\n",
        "\n",
        "R2_score, Predict_results = k_fold(5,train_data,train_label)\n",
        "\n",
        "\n",
        "# average_mae_history = [(np.mean([x[i] for x in mae_history]))*100 for i in range(50)] \n",
        "# average_mse_history = [(np.mean([x[i] for x in mse_history]))*100 for i in range(50)] \n",
        "# #model 3Dcnn \n",
        "# epochs = range(1,len(average_mse_history)+1)\n",
        "# plt.plot(epochs, average_mae_history,'c',  label='mae' )\n",
        "# plt.plot(epochs, average_mse_history,'m',  label='mse' )\n",
        "# plt.xlabel('Epochs')\n",
        "# plt.ylabel('Validation')\n",
        "# plt.show()\n"
      ],
      "execution_count": null,
      "outputs": []
    },
    {
      "cell_type": "code",
      "metadata": {
        "id": "InwlBzyiKeCq",
        "colab_type": "code",
        "colab": {}
      },
      "source": [
        "mse_history = history.history['loss']\n",
        "mae_history = history.history['mean_absolute_error'] \n",
        "comparision1 = (model.predict(test_data[:100]))*100\n",
        "x_data = range(1080)\n",
        "Test_label = test_label[:100]*100\n",
        "y_data_c1 = Test_label[:,0]\n",
        "y_data_c2 = Test_label[:,1]\n",
        "y_data_c3 = Test_label[:,2]\n",
        "y_predict1_c1 = comparision1[:,0]\n",
        "y_predict1_c2 = comparision1[:,1]\n",
        "y_predict1_c3 = comparision1[:,2]\n",
        "\n",
        "fig, (predict_c1, predict_c2, predict_c3) = plt.subplots(3)\n",
        "fig.suptitle('3 visual conditions') \n",
        "plt.subplots(figsize=(50, 10))\n",
        "# fig, ax = plt.subplots(figsize=(20, 10))\n",
        "\n",
        "predict_c1.plot(x_data, y_data_c1 , 'r', label='truth_c1')\n",
        "predict_c2.plot(x_data, y_data_c2 , 'r', label='truth_c2')\n",
        "predict_c3.plot(x_data, y_data_c3 , 'r', label='truth_c3')\n",
        "predict_c1.plot(x_data, y_predict1_c1 , 'b', label='predict1_c1')\n",
        "predict_c2.plot(x_data, y_predict1_c2 , 'b', label='predict1_c2')\n",
        "predict_c3.plot(x_data, y_predict1_c3 , 'b', label='predict1_c3')\n",
        "from sklearn.metrics import r2_score\n",
        "r2_score(Test_label, comparision1, multioutput='raw_values')"
      ],
      "execution_count": null,
      "outputs": []
    },
    {
      "cell_type": "code",
      "metadata": {
        "id": "MXceKoOMaIMv",
        "colab_type": "code",
        "colab": {}
      },
      "source": [
        "# !cat ~/.keras/keras.json\n",
        "\n",
        "# from keras import backend\n",
        "# backend.set_image_data_format('channels_first')\n",
        "# print(backend.image_data_format())\n",
        "\n",
        "# !cat ~/.keras/keras.json"
      ],
      "execution_count": null,
      "outputs": []
    },
    {
      "cell_type": "code",
      "metadata": {
        "id": "ZYOiIdMub_Xa",
        "colab_type": "code",
        "colab": {}
      },
      "source": [
        "# # print(open(\"~/.keras/keras.json\").read())\n",
        "# content = {\"epsilon\": 1e-07, \n",
        "#     \"floatx\": \"float32\", \n",
        "#     \"image_data_format\": \"channels_first\", \n",
        "#     \"backend\": \"tensorflow\"}\n",
        "# with open(\" ~/.keras/keras.json\",'w') as f:\n",
        "#   f.write(str(content))\n",
        "# # print(open(\"~/.keras/keras.json\").read())\n"
      ],
      "execution_count": null,
      "outputs": []
    },
    {
      "cell_type": "code",
      "metadata": {
        "id": "1pyDCEiQh9rK",
        "colab_type": "code",
        "colab": {}
      },
      "source": [
        "\n",
        "# tmp = data2[3,0,:,:]\n",
        "# # np.set_printoptions(threshold=np.inf)  #打印全部内容 没有缩写\n",
        "# print(tmp.shape)\n",
        "# # print(tmp[:,:])\n",
        "# tmp=tmp.astype(np.float) # conver to float  and plot \n",
        "# # %matplotlib qt \n",
        "# %matplotlib inline\n",
        "# plt.imshow(tmp,cmap='GnBu')\n",
        "# plt.savefig('/content/drive/My Drive/input_example.png' ,dpi=2400)\n"
      ],
      "execution_count": null,
      "outputs": []
    },
    {
      "cell_type": "code",
      "metadata": {
        "id": "KGpGISKqqn8J",
        "colab_type": "code",
        "colab": {}
      },
      "source": [
        "# aaa = np.load('/content/drive/My Drive/output/M2.npy')\n",
        "# ppp = aaa[0]\n",
        "# print(ppp.shape)\n",
        "# ppp=ppp.astype(np.float) # conver to float  and plot \n",
        "# # %matplotlib qt \n",
        "# %matplotlib inline\n",
        "# plt.imshow(ppp,cmap='gray')\n",
        "# plt.savefig('/content/drive/My Drive/output_example.png' ,dpi=2400)"
      ],
      "execution_count": null,
      "outputs": []
    },
    {
      "cell_type": "code",
      "metadata": {
        "id": "y_GEzrFQzZJk",
        "colab_type": "code",
        "colab": {}
      },
      "source": [
        "def SPLIT(data,split):\n",
        "\n",
        "  data, label = shuffle(data, Label, random_state=20)\n",
        "\n",
        "  train_data = data[:split]\n",
        "  train_label = label[:split]\n",
        "  test_data = data[split:]\n",
        "  test_label = label[split:]\n",
        "\n",
        "  return train_data, train_label, test_data, test_label\n",
        "\n",
        "\n",
        "train_data, train_label, test_data, test_label = SPLIT(data,72)\n",
        "# train_data1, train_label1, test_data1, test_label1 = SPLIT(data1,72)\n",
        "# train_data2, train_label2, test_data2, test_label2 = SPLIT(data2,72)"
      ],
      "execution_count": null,
      "outputs": []
    },
    {
      "cell_type": "code",
      "metadata": {
        "id": "bsKXiWEf__lN",
        "colab_type": "code",
        "colab": {}
      },
      "source": [
        "def k_fold(k,train_data,train_targets):\n",
        "  num_val_samples = len(train_data)//k\n",
        "  val_mses = []\n",
        "  val_maes = []\n",
        "  mse_History = []\n",
        "  mae_History = []\n",
        "  num_epochs = 100\n",
        "  batchsize = 6\n",
        "  for i in range(k):\n",
        "    print('processing fold #', i)\n",
        "    val_data = train_data[i * num_val_samples: (i + 1) * num_val_samples]\n",
        "    val_targets = train_targets[i * num_val_samples: (i + 1) * num_val_samples]\n",
        "    partial_train_data = np.concatenate([train_data[:i * num_val_samples],train_data[(i + 1) * num_val_samples:]], axis=0)\n",
        "    partial_train_targets = np.concatenate([train_targets[:i * num_val_samples],train_targets[(i + 1) * num_val_samples:]], axis=0)\n",
        "    model = threeD_CNN()\n",
        "    history = model.fit(partial_train_data, partial_train_targets, epochs=num_epochs, batch_size=batchsize, verbose=0)\n",
        "    val_mse, val_mae = model.evaluate(val_data, val_targets, verbose=0)\n",
        "    mse_history = history.history['loss']\n",
        "    mae_history = history.history['mean_absolute_error']\n",
        "    val_mses.append(val_mse)\n",
        "    val_maes.append(val_mae)\n",
        "    mse_History.append(mse_history)\n",
        "    mae_History.append(mae_history)\n",
        "  return val_mses, val_maes, mse_History, mae_History\n",
        "\n",
        "val_mses, val_maes, mse_history, mae_history = k_fold(4,train_data,train_label)\n",
        "\n",
        "\n",
        "average_mae_history = [(np.mean([x[i] for x in mae_history]))*100 for i in range(100)] \n",
        "average_mse_history = [(np.mean([x[i] for x in mse_history]))*100 for i in range(100)] \n",
        "#model 3Dcnn \n",
        "epochs = range(1,len(average_mse_history)+1)\n",
        "plt.plot(epochs, average_mae_history,'c',  label='mae' )\n",
        "plt.plot(epochs, average_mse_history,'m',  label='mse' )\n",
        "plt.xlabel('Epochs')\n",
        "plt.ylabel('Validation')\n",
        "plt.show()\n"
      ],
      "execution_count": null,
      "outputs": []
    },
    {
      "cell_type": "code",
      "metadata": {
        "id": "BUwIEUOgnscX",
        "colab_type": "code",
        "colab": {}
      },
      "source": [
        "def k_fold(k,train_data,train_targets):\n",
        "  num_val_samples = len(train_data)//k\n",
        "  val_mses = []\n",
        "  val_maes = []\n",
        "  mse_History = []\n",
        "  mae_History = []\n",
        "  num_epochs = 100\n",
        "  batchsize = 6\n",
        "  for i in range(k):\n",
        "    print('processing fold #', i)\n",
        "    val_data = train_data[i * num_val_samples: (i + 1) * num_val_samples]\n",
        "    val_targets = train_targets[i * num_val_samples: (i + 1) * num_val_samples]\n",
        "    partial_train_data = np.concatenate([train_data[:i * num_val_samples],train_data[(i + 1) * num_val_samples:]], axis=0)\n",
        "    partial_train_targets = np.concatenate([train_targets[:i * num_val_samples],train_targets[(i + 1) * num_val_samples:]], axis=0)\n",
        "    model = threeD_CNN1()\n",
        "    history = model.fit(partial_train_data, partial_train_targets, epochs=num_epochs, batch_size=batchsize, verbose=0)\n",
        "    val_mse, val_mae = model.evaluate(val_data, val_targets, verbose=0)\n",
        "    mse_history = history.history['loss']\n",
        "    mae_history = history.history['mean_absolute_error']\n",
        "    val_mses.append(val_mse)\n",
        "    val_maes.append(val_mae)\n",
        "    mse_History.append(mse_history)\n",
        "    mae_History.append(mae_history)\n",
        "  return val_mses, val_maes, mse_History, mae_History\n",
        "\n",
        "val_mses1, val_maes1, mse_history1, mae_history1 = k_fold(4,train_data,train_label) \n",
        "\n",
        "average_mae_history1 = [(np.mean([x[i] for x in mae_history1]))*100 for i in range(100)] \n",
        "average_mse_history1= [(np.mean([x[i] for x in mse_history1]))*100 for i in range(100)] \n",
        "#model 3Dcnn \n",
        "epochs = range(1,len(average_mse_history1)+1)\n",
        "plt.plot(epochs, average_mae_history1,'c',  label='mae' )\n",
        "plt.plot(epochs, average_mse_history1,'m',  label='mse' )\n",
        "plt.xlabel('Epochs')\n",
        "plt.ylabel('Validation')\n",
        "plt.show()\n",
        "# batchsize = 6\n",
        "# model1 = threeD_CNN()\n",
        "# history1 = model1.fit(train_data, train_label, epochs = 100, batch_size = batchsize, verbose=0)\n",
        "# model2 = threeD_CNN1()\n",
        "# history2 = model2.fit(train_data, train_label, epochs = 100, batch_size = batchsize,verbose=0)\n",
        "# model3 = threeD_CNN2()\n",
        "# history3 = model3.fit(train_data, train_label, epochs = 100,batch_size = batchsize, verbose=0)\n"
      ],
      "execution_count": null,
      "outputs": []
    },
    {
      "cell_type": "code",
      "metadata": {
        "id": "0A6aSD2LpEQG",
        "colab_type": "code",
        "colab": {}
      },
      "source": [
        "def k_fold(k,train_data,train_targets):\n",
        "  num_val_samples = len(train_data)//k\n",
        "  val_mses = []\n",
        "  val_maes = []\n",
        "  mse_History = []\n",
        "  mae_History = []\n",
        "  num_epochs = 100\n",
        "  batchsize = 6\n",
        "  for i in range(k):\n",
        "    print('processing fold #', i)\n",
        "    val_data = train_data[i * num_val_samples: (i + 1) * num_val_samples]\n",
        "    val_targets = train_targets[i * num_val_samples: (i + 1) * num_val_samples]\n",
        "    partial_train_data = np.concatenate([train_data[:i * num_val_samples],train_data[(i + 1) * num_val_samples:]], axis=0)\n",
        "    partial_train_targets = np.concatenate([train_targets[:i * num_val_samples],train_targets[(i + 1) * num_val_samples:]], axis=0)\n",
        "    model = threeD_CNN2()\n",
        "    history = model.fit(partial_train_data, partial_train_targets, epochs=num_epochs, batch_size=batchsize, verbose=0)\n",
        "    val_mse, val_mae = model.evaluate(val_data, val_targets, verbose=0)\n",
        "    mse_history = history.history['loss']\n",
        "    mae_history = history.history['mean_absolute_error']\n",
        "    val_mses.append(val_mse)\n",
        "    val_maes.append(val_mae)\n",
        "    mse_History.append(mse_history)\n",
        "    mae_History.append(mae_history)\n",
        "  return val_mses, val_maes, mse_History, mae_History\n",
        "\n",
        "val_mses2, val_maes2, mse_history2, mae_history2 = k_fold(4,train_data,train_label) \n",
        "\n",
        "average_mae_history2 = [(np.mean([x[i] for x in mae_history2]))*100 for i in range(100)] \n",
        "average_mse_history2 = [(np.mean([x[i] for x in mse_history2]))*100 for i in range(100)] \n",
        "#model 3Dcnn \n",
        "epochs = range(1,len(average_mse_history2)+1)\n",
        "plt.plot(epochs, average_mae_history2,'c',  label='mae' )\n",
        "plt.plot(epochs, average_mse_history2,'m',  label='mse' )\n",
        "plt.xlabel('Epochs')\n",
        "plt.ylabel('Validation')\n",
        "plt.show()\n",
        "# batchsize = 6\n",
        "# model1 = threeD_CNN()\n",
        "# history1 = model1.fit(train_data, train_label, epochs = 100, batch_size = batchsize, verbose=0)\n",
        "# model2 = threeD_CNN1()\n",
        "# history2 = model2.fit(train_data, train_label, epochs = 100, batch_size = batchsize,verbose=0)\n",
        "# model3 = threeD_CNN2()\n",
        "# history3 = model3.fit(train_data, train_label, epochs = 100,batch_size = batchsize, verbose=0)\n"
      ],
      "execution_count": null,
      "outputs": []
    },
    {
      "cell_type": "code",
      "metadata": {
        "id": "5FmpFlXNrLxD",
        "colab_type": "code",
        "colab": {}
      },
      "source": [
        "epochs = range(1,len(average_mse_history)+1)\n",
        "plt.plot(epochs, average_mae_history,'c',  label='mae' )\n",
        "plt.plot(epochs, average_mse_history,'c--',  label='mse' )\n",
        "plt.plot(epochs, average_mae_history1,'m',  label='mae1' )\n",
        "plt.plot(epochs, average_mse_history1,'m--',  label='mse1' )\n",
        "plt.plot(epochs, average_mae_history2,'r',  label='mae2' )\n",
        "plt.plot(epochs, average_mse_history2,'r--',  label='mse2' )\n",
        "plt.xlabel('Epochs')\n",
        "plt.ylabel('Average_performance')\n",
        "plt.legend()\n",
        "# plt.show()\n",
        "plt.savefig('/content/drive/My Drive/original_30_3models_comparison.png' ,dpi=1200)"
      ],
      "execution_count": null,
      "outputs": []
    },
    {
      "cell_type": "code",
      "metadata": {
        "id": "y2k-IciUBMET",
        "colab_type": "code",
        "colab": {}
      },
      "source": [
        "mse1 = history1.history['loss']\n",
        "mae1 = history1.history['mean_absolute_error']\n",
        "mse2 = history2.history['loss']\n",
        "mae2 = history2.history['mean_absolute_error']\n",
        "mse3 = history3.history['loss']\n",
        "mae3 = history3.history['mean_absolute_error']\n",
        "# val_loss = history.history['val_loss']\n",
        "# acc = history.history['acc']\n",
        "# val_acc=history.history['val_acc']\n",
        "epochs = range(1,len(mse1) +1)\n",
        "plt.plot(epochs, mse1, 'c', label='mse1')\n",
        "plt.plot(epochs, mse2, 'm', label='mse2')\n",
        "plt.plot(epochs, mse3, 'r', label='mse3')\n",
        "\n",
        "plt.plot(epochs, mae1, 'c--', label='mae1')\n",
        "plt.plot(epochs, mae2, 'm--', label='mae2')\n",
        "plt.plot(epochs, mae3, 'r--', label='mae3')\n",
        "\n",
        "plt.title('loss')\n",
        "plt.xlabel('Epochs')\n",
        "plt.ylabel('Loss')\n",
        "plt.legend()\n",
        "plt.show() \n",
        "# plt.savefig('/content/drive/My Drive/original_30_3models_comparison.png' ,dpi=2400)"
      ],
      "execution_count": null,
      "outputs": []
    },
    {
      "cell_type": "code",
      "metadata": {
        "id": "rCiqhmnb0SrP",
        "colab_type": "code",
        "colab": {}
      },
      "source": [
        "comparision1 = (model1.predict(test_data))*100\n",
        "comparision2 =(model2.predict(test_data))*100\n",
        "comparision3 = (model3.predict(test_data))*100\n",
        "print(comparision1[0,0])\n",
        "print(comparision2)\n"
      ],
      "execution_count": null,
      "outputs": []
    },
    {
      "cell_type": "code",
      "metadata": {
        "id": "5oorCp3DpyDY",
        "colab_type": "code",
        "colab": {}
      },
      "source": [
        "x_data = range(24)\n",
        "Test_label = test_label*100\n",
        "y_data_c1 = Test_label[:,0]\n",
        "y_data_c2 = Test_label[:,1]\n",
        "y_data_c3 = Test_label[:,2]\n",
        "y_predict1_c1 = comparision1[:,0]\n",
        "y_predict1_c2 = comparision1[:,1]\n",
        "y_predict1_c3 = comparision1[:,2]\n",
        "y_predict2_c1 = comparision2[:,0]\n",
        "y_predict2_c2 = comparision2[:,1]\n",
        "y_predict2_c3 = comparision2[:,2]\n",
        "y_predict3_c1 = comparision3[:,0]\n",
        "y_predict3_c2 = comparision3[:,1]\n",
        "y_predict3_c3 = comparision3[:,2]\n",
        "\n",
        "fig, (predict_c1, predict_c2, predict_c3) = plt.subplots(3)\n",
        "fig.suptitle('3 visual conditions') \n",
        "\n",
        "\n",
        "predict_c1.plot(x_data, y_data_c1 , 'c', label='truth_c1')\n",
        "predict_c2.plot(x_data, y_data_c2 , 'r', label='truth_c2')\n",
        "predict_c3.plot(x_data, y_data_c3 , 'b', label='truth_c3')\n",
        "predict_c1.plot(x_data, y_predict1_c1 , 'c--', label='predict1_c1')\n",
        "predict_c2.plot(x_data, y_predict1_c2 , 'r--', label='predict1_c2')\n",
        "predict_c3.plot(x_data, y_predict1_c3 , 'b--', label='predict1_c3')\n",
        "predict_c1.plot(x_data, y_predict2_c1 , 'c:', label='predict2_c1')\n",
        "predict_c2.plot(x_data, y_predict2_c2 , 'r:', label='predict2_c2')\n",
        "predict_c3.plot(x_data, y_predict2_c3 , 'b:', label='predict2_c3')\n",
        "predict_c1.plot(x_data, y_predict3_c1 , 'c-.', label='predict2_c1')\n",
        "predict_c2.plot(x_data, y_predict3_c2 , 'r-.', label='predict2_c2')\n",
        "predict_c3.plot(x_data, y_predict3_c3 , 'b-.', label='predict2_c3')\n",
        "\n",
        "predict_c1.legend(bbox_to_anchor=(1.05, 1), loc='upper left', borderaxespad=0.)\n",
        "predict_c2.legend(bbox_to_anchor=(1.05, 1), loc='upper left', borderaxespad=0.)\n",
        "predict_c3.legend(bbox_to_anchor=(1.05, 1), loc='upper left', borderaxespad=0.)\n",
        "\n",
        "# plt.title('loss')\n",
        "# plt.xlabel('Epochs')\n",
        "# plt.ylabel('Loss')\n",
        "# plt.show() \n",
        "# fig.savefig('/content/drive/My Drive/ready_data_6C/matrix_input/1.png' ,bbox_inches='tight')"
      ],
      "execution_count": null,
      "outputs": []
    },
    {
      "cell_type": "code",
      "metadata": {
        "id": "eeafspWL5hF-",
        "colab_type": "code",
        "colab": {}
      },
      "source": [
        "print(comparision1.shape)\n",
        "y_data_c1 = test_label[:,0]\n",
        "print(y_data_c1.shape)"
      ],
      "execution_count": null,
      "outputs": []
    },
    {
      "cell_type": "code",
      "metadata": {
        "id": "K4Nj-8wBb-YS",
        "colab_type": "code",
        "colab": {}
      },
      "source": [
        "def calculate_mse(predict):   #对比三种视觉情况 每个model的mse  \n",
        "  y_data_c1 = test_label[:,0]\n",
        "  y_data_c2 = test_label[:,1]\n",
        "  y_data_c3 = test_label[:,2]\n",
        "  y_predict1_c1 = predict[:,0]\n",
        "  y_predict1_c2 = predict[:,1]\n",
        "  y_predict1_c3 = predict[:,2]\n",
        "  tmp1 = 0\n",
        "  tmp2 = 0\n",
        "  tmp3 = 0\n",
        "  for i in range(24):\n",
        "    tmp1 = tmp1 + (y_data_c1[i]- y_predict1_c1[i])**2\n",
        "    tmp2 = tmp2 + (y_data_c2[i]- y_predict1_c2[i])**2\n",
        "    tmp3 = tmp3 + (y_data_c3[i]- y_predict1_c3[i])**2\n",
        "  c1 = tmp1 /24 \n",
        "  c2 = tmp2 /24\n",
        "  c3 = tmp3 /24\n",
        "  # c1 = K.mean(K.square( y_data_c1- y_predict1_c1), axis=-1)\n",
        "  # c2 = K.mean(K.square( y_data_c2- y_predict1_c2), axis=-1)\n",
        "  # c3 = K.mean(K.square( y_data_c3- y_predict1_c3), axis=-1)\n",
        "  return c1 , c2 ,c3 \n"
      ],
      "execution_count": null,
      "outputs": []
    },
    {
      "cell_type": "code",
      "metadata": {
        "id": "ADIMW3_z6wqi",
        "colab_type": "code",
        "colab": {}
      },
      "source": [
        "# from keras import backend as K\n",
        "Model1 = calculate_mse(comparision1)\n",
        "Model2 = calculate_mse(comparision2)"
      ],
      "execution_count": null,
      "outputs": []
    },
    {
      "cell_type": "code",
      "metadata": {
        "id": "YtVJRcL-630S",
        "colab_type": "code",
        "colab": {}
      },
      "source": [
        "print(Model1)\n",
        "print(Model2)"
      ],
      "execution_count": null,
      "outputs": []
    },
    {
      "cell_type": "code",
      "metadata": {
        "id": "KOibpL9D7oal",
        "colab_type": "code",
        "colab": {}
      },
      "source": [
        ""
      ],
      "execution_count": null,
      "outputs": []
    }
  ]
}